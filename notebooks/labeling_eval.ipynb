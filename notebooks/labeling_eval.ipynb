{
 "cells": [
  {
   "cell_type": "code",
   "execution_count": 215,
   "metadata": {},
   "outputs": [],
   "source": [
    "from cleanlab import Datalab\n",
    "from sklearn.feature_extraction.text import TfidfVectorizer\n",
    "import pandas as pd\n",
    "import polars as pl\n",
    "import seaborn as sns\n",
    "from matplotlib import pyplot as plt\n",
    "from lib.MLP import BinaryTfidfMLPClassifier\n",
    "from sklearn.model_selection import StratifiedKFold\n",
    "from cleanlab.filter import find_label_issues\n",
    "from sklearn.model_selection import StratifiedKFold\n",
    "import numpy as np\n",
    "from cleanlab.classification import CleanLearning"
   ]
  },
  {
   "cell_type": "markdown",
   "metadata": {},
   "source": [
    "## Cleanlab\n",
    "### Datalab Data Valuation\n",
    "Cleanlab’s Shapely scores are transformed to lie between 0 and 1 such that: a score below 0.5 indicates a negative contribution to the model’s training performance, while a score above 0.5 indicates a positive contribution."
   ]
  },
  {
   "cell_type": "code",
   "execution_count": 216,
   "metadata": {},
   "outputs": [],
   "source": [
    "df = pl.read_csv(\"../data/labeled/19_06/to_classify.csv\").to_pandas()\n",
    "\n",
    "true_labels = df['label'].to_list()\n",
    "\n",
    "vectorizer = TfidfVectorizer()\n",
    "\n",
    "# Transform the text data into a feature matrix\n",
    "X_vectorized = vectorizer.fit_transform(df['description_title_cats_compact'])\n",
    "\n",
    "# Convert the sparse matrix to a dense matrix\n",
    "X = X_vectorized.toarray()"
   ]
  },
  {
   "cell_type": "code",
   "execution_count": 217,
   "metadata": {},
   "outputs": [
    {
     "name": "stdout",
     "output_type": "stream",
     "text": [
      "Finding data_valuation issues ...\n",
      "\n",
      "Audit complete. 55 issues found in the dataset.\n"
     ]
    }
   ],
   "source": [
    "lab = Datalab(data=df, label_name=\"label\", task=\"classification\")\n",
    "\n",
    "# Perform data valuation\n",
    "lab.find_issues(features=X, issue_types={\"data_valuation\": {}})\n",
    "\n",
    "# Collect the identified issues\n",
    "data_valuation_issues = lab.get_issues(\"data_valuation\")"
   ]
  },
  {
   "cell_type": "code",
   "execution_count": 218,
   "metadata": {},
   "outputs": [
    {
     "data": {
      "text/html": [
       "<div>\n",
       "<style scoped>\n",
       "    .dataframe tbody tr th:only-of-type {\n",
       "        vertical-align: middle;\n",
       "    }\n",
       "\n",
       "    .dataframe tbody tr th {\n",
       "        vertical-align: top;\n",
       "    }\n",
       "\n",
       "    .dataframe thead th {\n",
       "        text-align: right;\n",
       "    }\n",
       "</style>\n",
       "<table border=\"1\" class=\"dataframe\">\n",
       "  <thead>\n",
       "    <tr style=\"text-align: right;\">\n",
       "      <th></th>\n",
       "      <th>data_valuation_score</th>\n",
       "      <th>label</th>\n",
       "      <th>description_title_cats_compact</th>\n",
       "      <th>id_hash</th>\n",
       "    </tr>\n",
       "  </thead>\n",
       "  <tbody>\n",
       "    <tr>\n",
       "      <th>120</th>\n",
       "      <td>0.497386</td>\n",
       "      <td>1</td>\n",
       "      <td>Förderung der selbstbestimmten Teilhabe von Me...</td>\n",
       "      <td>977e06d07074d61f892107592c378944</td>\n",
       "    </tr>\n",
       "    <tr>\n",
       "      <th>72</th>\n",
       "      <td>0.497549</td>\n",
       "      <td>1</td>\n",
       "      <td>Förderung von Forschungsvorhaben „Plattform Pr...</td>\n",
       "      <td>892750f7bab363532b99225c7886cd11</td>\n",
       "    </tr>\n",
       "    <tr>\n",
       "      <th>254</th>\n",
       "      <td>0.497712</td>\n",
       "      <td>1</td>\n",
       "      <td>Integrationsprojekte für Menschen mit Migratio...</td>\n",
       "      <td>6b4d125864be5f08e7819b80af8b5029</td>\n",
       "    </tr>\n",
       "    <tr>\n",
       "      <th>53</th>\n",
       "      <td>0.498039</td>\n",
       "      <td>1</td>\n",
       "      <td>ESF-Bundesprogramm – „rückenwind3 für Vielfalt...</td>\n",
       "      <td>83d023d6f250ed596d6dbc0aa3ce7ec7</td>\n",
       "    </tr>\n",
       "    <tr>\n",
       "      <th>7</th>\n",
       "      <td>0.498039</td>\n",
       "      <td>1</td>\n",
       "      <td>Förderung von Projekten zur Inklusion, Partizi...</td>\n",
       "      <td>eda305464ae068152d4c084989b6a2ff</td>\n",
       "    </tr>\n",
       "    <tr>\n",
       "      <th>8</th>\n",
       "      <td>0.498366</td>\n",
       "      <td>1</td>\n",
       "      <td>Hamburger Partizipationsfonds (Förderbereich: ...</td>\n",
       "      <td>787895b92b2a20631d7053bb2aa7e2c4</td>\n",
       "    </tr>\n",
       "    <tr>\n",
       "      <th>121</th>\n",
       "      <td>0.498693</td>\n",
       "      <td>1</td>\n",
       "      <td>Bürgerinnen und Bürger, Gleichstellung, Rechte...</td>\n",
       "      <td>7b228e2288ba3580d0aaac6df450b7f2</td>\n",
       "    </tr>\n",
       "    <tr>\n",
       "      <th>59</th>\n",
       "      <td>0.498693</td>\n",
       "      <td>1</td>\n",
       "      <td>Förderung von Kleinprojekten (Förderbereich: A...</td>\n",
       "      <td>122a5f6220d57c8614c593ea50188d31</td>\n",
       "    </tr>\n",
       "    <tr>\n",
       "      <th>128</th>\n",
       "      <td>0.498693</td>\n",
       "      <td>1</td>\n",
       "      <td>Umsetzung inklusiver Maßnahmen (RL Inklusion) ...</td>\n",
       "      <td>d72dc9bfe82d80f2fcb13cd6eafc39bc</td>\n",
       "    </tr>\n",
       "    <tr>\n",
       "      <th>235</th>\n",
       "      <td>0.498856</td>\n",
       "      <td>1</td>\n",
       "      <td>Förderung der Migrationsberatung in Niedersach...</td>\n",
       "      <td>2e9c664847c7be79bdd14975da44163e</td>\n",
       "    </tr>\n",
       "  </tbody>\n",
       "</table>\n",
       "</div>"
      ],
      "text/plain": [
       "     data_valuation_score  label  \\\n",
       "120              0.497386      1   \n",
       "72               0.497549      1   \n",
       "254              0.497712      1   \n",
       "53               0.498039      1   \n",
       "7                0.498039      1   \n",
       "8                0.498366      1   \n",
       "121              0.498693      1   \n",
       "59               0.498693      1   \n",
       "128              0.498693      1   \n",
       "235              0.498856      1   \n",
       "\n",
       "                        description_title_cats_compact  \\\n",
       "120  Förderung der selbstbestimmten Teilhabe von Me...   \n",
       "72   Förderung von Forschungsvorhaben „Plattform Pr...   \n",
       "254  Integrationsprojekte für Menschen mit Migratio...   \n",
       "53   ESF-Bundesprogramm – „rückenwind3 für Vielfalt...   \n",
       "7    Förderung von Projekten zur Inklusion, Partizi...   \n",
       "8    Hamburger Partizipationsfonds (Förderbereich: ...   \n",
       "121  Bürgerinnen und Bürger, Gleichstellung, Rechte...   \n",
       "59   Förderung von Kleinprojekten (Förderbereich: A...   \n",
       "128  Umsetzung inklusiver Maßnahmen (RL Inklusion) ...   \n",
       "235  Förderung der Migrationsberatung in Niedersach...   \n",
       "\n",
       "                              id_hash  \n",
       "120  977e06d07074d61f892107592c378944  \n",
       "72   892750f7bab363532b99225c7886cd11  \n",
       "254  6b4d125864be5f08e7819b80af8b5029  \n",
       "53   83d023d6f250ed596d6dbc0aa3ce7ec7  \n",
       "7    eda305464ae068152d4c084989b6a2ff  \n",
       "8    787895b92b2a20631d7053bb2aa7e2c4  \n",
       "121  7b228e2288ba3580d0aaac6df450b7f2  \n",
       "59   122a5f6220d57c8614c593ea50188d31  \n",
       "128  d72dc9bfe82d80f2fcb13cd6eafc39bc  \n",
       "235  2e9c664847c7be79bdd14975da44163e  "
      ]
     },
     "execution_count": 218,
     "metadata": {},
     "output_type": "execute_result"
    }
   ],
   "source": [
    "mask = data_valuation_issues[\"data_valuation_score\"] < 0.5\n",
    "original_indices = data_valuation_issues[mask].index.tolist()\n",
    "\n",
    "# Add data valuation score to original df\n",
    "df[\"data_valuation_score\"] = data_valuation_issues[\"data_valuation_score\"]\n",
    "\n",
    "# Then filter\n",
    "df.loc[original_indices].sort_values(by=\"data_valuation_score\")[[\"data_valuation_score\",\"label\",\"description_title_cats_compact\", \"id_hash\"]].iloc[:10]"
   ]
  },
  {
   "cell_type": "code",
   "execution_count": 219,
   "metadata": {},
   "outputs": [],
   "source": [
    "data_val_hashes = df.loc[original_indices][\"id_hash\"].to_list()"
   ]
  },
  {
   "cell_type": "code",
   "execution_count": 220,
   "metadata": {},
   "outputs": [
    {
     "data": {
      "image/png": "[encoded data removed]",
      "text/plain": [
       "<Figure size 640x480 with 1 Axes>"
      ]
     },
     "metadata": {},
     "output_type": "display_data"
    }
   ],
   "source": [
    "plot_data = (\n",
    "    data_valuation_issues\n",
    "    # Optionally, add a 'given_label' column to distinguish between labels in the histogram\n",
    "    .join(pd.DataFrame({\"given_label\": df[\"label\"]}))\n",
    ")\n",
    "\n",
    "# Plot strip plots of data valuation scores for each label\n",
    "sns.stripplot(\n",
    "    data=plot_data,\n",
    "    x=\"data_valuation_score\",\n",
    "    hue=\"given_label\",  # Comment out if no labels should be used in the visualization\n",
    "    dodge=True,\n",
    "    jitter=0.3,\n",
    "    alpha=0.5,\n",
    ")\n",
    "\n",
    "plt.axvline(lab.info[\"data_valuation\"][\"threshold\"], color=\"red\", linestyle=\"--\", label=\"Issue Threshold\")\n",
    "\n",
    "plt.title(\"Strip plot of Data Valuation Scores by Label\")\n",
    "plt.xlabel(\"Data Valuation Score\")\n",
    "plt.legend()\n",
    "plt.show()"
   ]
  },
  {
   "cell_type": "markdown",
   "metadata": {},
   "source": [
    "### Identify labeling issues with existing classifier"
   ]
  },
  {
   "cell_type": "code",
   "execution_count": 221,
   "metadata": {},
   "outputs": [
    {
     "data": {
      "text/html": [
       "<div>\n",
       "<style scoped>\n",
       "    .dataframe tbody tr th:only-of-type {\n",
       "        vertical-align: middle;\n",
       "    }\n",
       "\n",
       "    .dataframe tbody tr th {\n",
       "        vertical-align: top;\n",
       "    }\n",
       "\n",
       "    .dataframe thead th {\n",
       "        text-align: right;\n",
       "    }\n",
       "</style>\n",
       "<table border=\"1\" class=\"dataframe\">\n",
       "  <thead>\n",
       "    <tr style=\"text-align: right;\">\n",
       "      <th></th>\n",
       "      <th>is_label_issue</th>\n",
       "      <th>label_quality</th>\n",
       "      <th>given_label</th>\n",
       "      <th>predicted_label</th>\n",
       "    </tr>\n",
       "  </thead>\n",
       "  <tbody>\n",
       "    <tr>\n",
       "      <th>0</th>\n",
       "      <td>False</td>\n",
       "      <td>0.872088</td>\n",
       "      <td>1</td>\n",
       "      <td>1</td>\n",
       "    </tr>\n",
       "    <tr>\n",
       "      <th>1</th>\n",
       "      <td>False</td>\n",
       "      <td>0.987286</td>\n",
       "      <td>1</td>\n",
       "      <td>1</td>\n",
       "    </tr>\n",
       "    <tr>\n",
       "      <th>2</th>\n",
       "      <td>False</td>\n",
       "      <td>0.993233</td>\n",
       "      <td>0</td>\n",
       "      <td>0</td>\n",
       "    </tr>\n",
       "    <tr>\n",
       "      <th>3</th>\n",
       "      <td>False</td>\n",
       "      <td>0.996835</td>\n",
       "      <td>0</td>\n",
       "      <td>0</td>\n",
       "    </tr>\n",
       "    <tr>\n",
       "      <th>4</th>\n",
       "      <td>True</td>\n",
       "      <td>0.093138</td>\n",
       "      <td>0</td>\n",
       "      <td>1</td>\n",
       "    </tr>\n",
       "  </tbody>\n",
       "</table>\n",
       "</div>"
      ],
      "text/plain": [
       "   is_label_issue  label_quality  given_label  predicted_label\n",
       "0           False       0.872088            1                1\n",
       "1           False       0.987286            1                1\n",
       "2           False       0.993233            0                0\n",
       "3           False       0.996835            0                0\n",
       "4            True       0.093138            0                1"
      ]
     },
     "execution_count": 221,
     "metadata": {},
     "output_type": "execute_result"
    }
   ],
   "source": [
    "classifier = BinaryTfidfMLPClassifier.from_json('../models/tfidf_mlp_results_f1_0.7656.json')\n",
    "cl = CleanLearning(classifier, cv_n_folds=5)\n",
    "\n",
    "skf = StratifiedKFold(n_splits=5)\n",
    "df = pl.read_csv(\"../data/labeled/19_06/to_classify.csv\")\n",
    "texts = df[\"description_title_cats_compact\"].to_list()\n",
    "true_labels = df[\"label\"].to_list()\n",
    "\n",
    "texts_array = np.array(texts)\n",
    "labels_array = np.array(true_labels)\n",
    "\n",
    "label_issues = cl.find_label_issues(\n",
    "    texts_array,\n",
    "    labels_array)\n",
    "\n",
    "label_issues.head()"
   ]
  },
  {
   "cell_type": "code",
   "execution_count": 222,
   "metadata": {},
   "outputs": [
    {
     "name": "stdout",
     "output_type": "stream",
     "text": [
      "cleanlab found 41 potential label errors in the dataset.\n",
      "\n"
     ]
    }
   ],
   "source": [
    "identified_issues = label_issues[label_issues[\"is_label_issue\"] == True]\n",
    "print(\n",
    "    f\"cleanlab found {len(identified_issues)} potential label errors in the dataset.\\n\"\n",
    ")"
   ]
  },
  {
   "cell_type": "code",
   "execution_count": 223,
   "metadata": {},
   "outputs": [
    {
     "name": "stdout",
     "output_type": "stream",
     "text": [
      "                                                                                                    text   quality  given_label  predicted_label\n",
      "72   Förderung von Forschungsvorhaben „Plattform Privatheit – IT-Sicherheit schützt Privatheit und st...  0.000137            1                0\n",
      "202  Förderung modellhafter und innovativer Projektideen im Rahmen des Land.OpenData-Ideenwettbewerbs...  0.001453            1                0\n",
      "277  Förderung der Kinder- und Jugendhilfe durch den Kinder- und Jugendplan des Bundes (KJP) (Förderb...  0.011432            0                1\n",
      "82   Europäischer Sozialfonds Plus (ESF+) im Saarland (Förderbereich: Arbeit, Aus- & Weiterbildung, F...  0.011655            0                1\n",
      "102  Förderung allgemeiner sozialer Maßnahmen wohlfahrtsverbandsunabhängiger Träger (Förderbereich: G...  0.012506            0                1\n",
      "192  Migrationsberatung für erwachsene Zuwanderer (MBE) (Förderbereich: Gesundheit & Soziales; Förder...  0.013253            0                1\n",
      "248  Förderung von Maßnahmen im Bereich des Bürgerschaftlichen Engagements (Förderbereich: Gesundheit...  0.018823            0                1\n",
      "42   Deutschkenntnisse und Sprachmittlung bei Geflüchteten und anderen Menschen mit Migrationshinterg...  0.021668            0                1\n",
      "18   Förderung der Teilhabe und Unterstützung älterer Menschen (RL Ältere Menschen) (Förderbereich: G...  0.025244            0                1\n",
      "275  Förderung der ambulanten Unterstützung im Bereich gemeindenaher Psychiatrie, Partizipation und T...  0.028974            0                1\n",
      "186  Förderung der Durchführung von Asylverfahrensberatung (AVB) und Rechtsberatung für vulnerable An...  0.035605            0                1\n",
      "110  Europäischer Sozialfonds Plus (ESF+) in Hamburg (Förderbereich: Aus- & Weiterbildung, Arbeit, Fr...  0.037374            0                1\n",
      "189  „Gemeinsam aktiv – Bürgerengagement in Hessen“ (Förderbereich: Gesundheit & Soziales; Förderbere...  0.043472            0                1\n",
      "94   Förderung von Integrationsprojekten (Förderbereich: Arbeit, Gesundheit & Soziales, Aus- & Weiter...  0.054534            0                1\n",
      "194  Heimat-Werkstatt (Förderbereich: Kultur, Medien & Sport, Gesundheit & Soziales; Förderberechtigt...  0.055771            0                1\n",
      "12   Förderung im Rahmen des ESF Plus-Bundesprogramms „Akti(F) Plus – Aktiv für Familien und ihre Kin...  0.056070            0                1\n",
      "45   Förderung von Forschungsprojekten zum Thema „Ursachen und Dynamiken des aktuellen Antisemitismus...  0.056132            1                0\n",
      "27   Zuwendungen im Rahmen des Asyl-, Migrations- und Integrationsfonds (Förderbereich: Gesundheit & ...  0.063271            0                1\n",
      "124  Förderung von Fanprojekten (Förderbereich: Kultur, Medien & Sport, Gesundheit & Soziales; Förder...  0.065386            0                1\n",
      "203  Förderung von Projekten zur Bildung für nachhaltige Entwicklung oder Umweltbildung (Richtlinien ...  0.073531            0                1\n",
      "\n",
      "[20 rows x 4 columns]\n"
     ]
    }
   ],
   "source": [
    "pdf = pd.DataFrame(\n",
    "    {\n",
    "        \"text\": texts,\n",
    "        \"quality\": label_issues[\"label_quality\"],\n",
    "        \"given_label\": true_labels,\n",
    "        \"predicted_label\": label_issues[\"predicted_label\"],\n",
    "    },\n",
    ").sort_values(by=\"quality\", ascending=True).iloc[:20]\n",
    "\n",
    "print(pdf.to_string(\n",
    "    max_colwidth=100,\n",
    "    max_rows=None,\n",
    "    max_cols=None,\n",
    "    show_dimensions=True\n",
    "))\n"
   ]
  },
  {
   "cell_type": "code",
   "execution_count": 224,
   "metadata": {},
   "outputs": [],
   "source": [
    "pdf = pd.DataFrame(\n",
    "    {\n",
    "        \"is_label_issue\": label_issues[\"is_label_issue\"],\n",
    "        \"id_hash\" : df[\"id_hash\"].to_list()\n",
    "    },\n",
    ")\n",
    "label_issue_id_hashes = pdf[pdf[\"is_label_issue\"] == True][\"id_hash\"].to_list()"
   ]
  },
  {
   "cell_type": "markdown",
   "metadata": {},
   "source": [
    "### Combining metrics"
   ]
  },
  {
   "cell_type": "code",
   "execution_count": 225,
   "metadata": {},
   "outputs": [
    {
     "name": "stdout",
     "output_type": "stream",
     "text": [
      "Intersection: 13\n",
      "Union: 83\n",
      "Data val hashes: 55\n",
      "Label issue id hashes: 41\n"
     ]
    }
   ],
   "source": [
    "# get intersection of data_val_hashes and label_issue_id_hashes\n",
    "intersection = set(data_val_hashes).intersection(set(label_issue_id_hashes))\n",
    "print(f\"Intersection: {len(intersection)}\")\n",
    "# get union\n",
    "union = set(data_val_hashes).union(set(label_issue_id_hashes))\n",
    "print(f\"Union: {len(union)}\")\n",
    "print(f\"Data val hashes: {len(data_val_hashes)}\")\n",
    "print(f\"Label issue id hashes: {len(label_issue_id_hashes)}\")\n",
    "                         "
   ]
  },
  {
   "cell_type": "code",
   "execution_count": 226,
   "metadata": {},
   "outputs": [
    {
     "name": "stdout",
     "output_type": "stream",
     "text": [
      "(83, 12)\n"
     ]
    },
    {
     "data": {
      "text/html": [
       "<div><style>\n",
       ".dataframe > thead > tr,\n",
       ".dataframe > tbody > tr {\n",
       "  text-align: right;\n",
       "  white-space: pre-wrap;\n",
       "}\n",
       "</style>\n",
       "<small>shape: (5, 12)</small><table border=\"1\" class=\"dataframe\"><thead><tr><th>id_hash</th><th>url</th><th>title</th><th>description_html</th><th>description_title_cats_compact</th><th>data_valuation_score</th><th>label_quality</th><th>is_detrimental</th><th>is_label_issue</th><th>predicted_label</th><th>label</th><th>label_mismatch</th></tr><tr><td>str</td><td>str</td><td>str</td><td>str</td><td>str</td><td>f64</td><td>f64</td><td>bool</td><td>bool</td><td>i16</td><td>i64</td><td>bool</td></tr></thead><tbody><tr><td>&quot;6f591d0a0cdb3ad8427f9d6461450b…</td><td>&quot;https://www.foerderdatenbank.d…</td><td>&quot;Erstorientierungskurse für Sch…</td><td>&quot;&lt;h3&gt;Kurztext&lt;/h3&gt;\n",
       "&lt;p&gt;Wenn Sie …</td><td>&quot;Erstorientierungskurse für Sch…</td><td>0.499837</td><td>0.872088</td><td>true</td><td>false</td><td>1</td><td>1</td><td>false</td></tr><tr><td>&quot;9004f112d3f865010a2fa6ae3d8ac6…</td><td>&quot;https://www.foerderdatenbank.d…</td><td>&quot;Zusammenhalt durch Teilhabe&quot;</td><td>&quot;&lt;h3&gt;Kurztext&lt;/h3&gt;\n",
       "&lt;p&gt;Wenn Sie …</td><td>&quot;Zusammenhalt durch Teilhabe (F…</td><td>0.499837</td><td>0.987286</td><td>true</td><td>false</td><td>1</td><td>1</td><td>false</td></tr><tr><td>&quot;552a0ea7a1bb4c8c25f0962cfdf4b3…</td><td>&quot;https://www.foerderdatenbank.d…</td><td>&quot;Förderung familienentlastender…</td><td>&quot;&lt;h3&gt;Kurztext&lt;/h3&gt;\n",
       "&lt;p&gt;Wenn Sie …</td><td>&quot;Förderung familienentlastender…</td><td>0.5</td><td>0.093138</td><td>false</td><td>true</td><td>1</td><td>0</td><td>true</td></tr><tr><td>&quot;eda305464ae068152d4c084989b6a2…</td><td>&quot;https://www.foerderdatenbank.d…</td><td>&quot;Förderung von Projekten zur In…</td><td>&quot;&lt;h3&gt;Kurztext&lt;/h3&gt;\n",
       "&lt;p&gt;Wenn Sie …</td><td>&quot;Förderung von Projekten zur In…</td><td>0.498039</td><td>0.980574</td><td>true</td><td>false</td><td>1</td><td>1</td><td>false</td></tr><tr><td>&quot;787895b92b2a20631d7053bb2aa7e2…</td><td>&quot;https://www.foerderdatenbank.d…</td><td>&quot;Hamburger Partizipationsfonds&quot;</td><td>&quot;&lt;h3&gt;Kurztext&lt;/h3&gt;\n",
       "&lt;p&gt;Wenn Sie …</td><td>&quot;Hamburger Partizipationsfonds …</td><td>0.498366</td><td>0.433351</td><td>true</td><td>false</td><td>0</td><td>1</td><td>true</td></tr></tbody></table></div>"
      ],
      "text/plain": [
       "shape: (5, 12)\n",
       "┌────────────┬────────────┬────────────┬───────────┬───┬───────────┬───────────┬───────┬───────────┐\n",
       "│ id_hash    ┆ url        ┆ title      ┆ descripti ┆ … ┆ is_label_ ┆ predicted ┆ label ┆ label_mis │\n",
       "│ ---        ┆ ---        ┆ ---        ┆ on_html   ┆   ┆ issue     ┆ _label    ┆ ---   ┆ match     │\n",
       "│ str        ┆ str        ┆ str        ┆ ---       ┆   ┆ ---       ┆ ---       ┆ i64   ┆ ---       │\n",
       "│            ┆            ┆            ┆ str       ┆   ┆ bool      ┆ i16       ┆       ┆ bool      │\n",
       "╞════════════╪════════════╪════════════╪═══════════╪═══╪═══════════╪═══════════╪═══════╪═══════════╡\n",
       "│ 6f591d0a0c ┆ https://ww ┆ Erstorient ┆ <h3>Kurzt ┆ … ┆ false     ┆ 1         ┆ 1     ┆ false     │\n",
       "│ db3ad8427f ┆ w.foerderd ┆ ierungskur ┆ ext</h3>  ┆   ┆           ┆           ┆       ┆           │\n",
       "│ 9d6461450b ┆ atenbank.d ┆ se für     ┆ <p>Wenn   ┆   ┆           ┆           ┆       ┆           │\n",
       "│ …          ┆ …          ┆ Sch…       ┆ Sie …     ┆   ┆           ┆           ┆       ┆           │\n",
       "│ 9004f112d3 ┆ https://ww ┆ Zusammenha ┆ <h3>Kurzt ┆ … ┆ false     ┆ 1         ┆ 1     ┆ false     │\n",
       "│ f865010a2f ┆ w.foerderd ┆ lt durch   ┆ ext</h3>  ┆   ┆           ┆           ┆       ┆           │\n",
       "│ a6ae3d8ac6 ┆ atenbank.d ┆ Teilhabe   ┆ <p>Wenn   ┆   ┆           ┆           ┆       ┆           │\n",
       "│ …          ┆ …          ┆            ┆ Sie …     ┆   ┆           ┆           ┆       ┆           │\n",
       "│ 552a0ea7a1 ┆ https://ww ┆ Förderung  ┆ <h3>Kurzt ┆ … ┆ true      ┆ 1         ┆ 0     ┆ true      │\n",
       "│ bb4c8c25f0 ┆ w.foerderd ┆ familienen ┆ ext</h3>  ┆   ┆           ┆           ┆       ┆           │\n",
       "│ 962cfdf4b3 ┆ atenbank.d ┆ tlastender ┆ <p>Wenn   ┆   ┆           ┆           ┆       ┆           │\n",
       "│ …          ┆ …          ┆ …          ┆ Sie …     ┆   ┆           ┆           ┆       ┆           │\n",
       "│ eda305464a ┆ https://ww ┆ Förderung  ┆ <h3>Kurzt ┆ … ┆ false     ┆ 1         ┆ 1     ┆ false     │\n",
       "│ e068152d4c ┆ w.foerderd ┆ von        ┆ ext</h3>  ┆   ┆           ┆           ┆       ┆           │\n",
       "│ 084989b6a2 ┆ atenbank.d ┆ Projekten  ┆ <p>Wenn   ┆   ┆           ┆           ┆       ┆           │\n",
       "│ …          ┆ …          ┆ zur In…    ┆ Sie …     ┆   ┆           ┆           ┆       ┆           │\n",
       "│ 787895b92b ┆ https://ww ┆ Hamburger  ┆ <h3>Kurzt ┆ … ┆ false     ┆ 0         ┆ 1     ┆ true      │\n",
       "│ 2a20631d70 ┆ w.foerderd ┆ Partizipat ┆ ext</h3>  ┆   ┆           ┆           ┆       ┆           │\n",
       "│ 53bb2aa7e2 ┆ atenbank.d ┆ ionsfonds  ┆ <p>Wenn   ┆   ┆           ┆           ┆       ┆           │\n",
       "│ …          ┆ …          ┆            ┆ Sie …     ┆   ┆           ┆           ┆       ┆           │\n",
       "└────────────┴────────────┴────────────┴───────────┴───┴───────────┴───────────┴───────┴───────────┘"
      ]
     },
     "execution_count": 226,
     "metadata": {},
     "output_type": "execute_result"
    }
   ],
   "source": [
    "cdf = df.with_columns([\n",
    "    pl.Series(\"data_valuation_score\", data_valuation_issues[\"data_valuation_score\"]),\n",
    "    pl.Series(\"label_quality\", label_issues[\"label_quality\"]),\n",
    "    pl.Series(\"is_label_issue\", label_issues[\"is_label_issue\"]),\n",
    "    pl.Series(\"predicted_label\", label_issues[\"predicted_label\"])\n",
    "])\n",
    "cdf = cdf.with_columns([\n",
    "    (pl.col(\"data_valuation_score\") < 0.5).alias(\"is_detrimental\"),\n",
    "    (pl.col(\"predicted_label\") != pl.col(\"label\")).alias(\"label_mismatch\")\n",
    "])\n",
    "# Create polars df with union hashes\n",
    "cdf = cdf.filter(pl.col(\"id_hash\").is_in(union))[\"id_hash\", \"url\", \"title\", \"description_html\", \"description_title_cats_compact\", \"data_valuation_score\", \"label_quality\", \"is_detrimental\",\"is_label_issue\", \"predicted_label\",\"label\",\"label_mismatch\"]\n",
    "print(cdf.shape)\n",
    "cdf.head()\n"
   ]
  },
  {
   "cell_type": "code",
   "execution_count": 227,
   "metadata": {},
   "outputs": [
    {
     "data": {
      "text/html": [
       "<div><style>\n",
       ".dataframe > thead > tr,\n",
       ".dataframe > tbody > tr {\n",
       "  text-align: right;\n",
       "  white-space: pre-wrap;\n",
       "}\n",
       "</style>\n",
       "<small>shape: (13, 12)</small><table border=\"1\" class=\"dataframe\"><thead><tr><th>id_hash</th><th>url</th><th>title</th><th>description_html</th><th>description_title_cats_compact</th><th>data_valuation_score</th><th>label_quality</th><th>is_detrimental</th><th>is_label_issue</th><th>predicted_label</th><th>label</th><th>label_mismatch</th></tr><tr><td>str</td><td>str</td><td>str</td><td>str</td><td>str</td><td>f64</td><td>f64</td><td>bool</td><td>bool</td><td>i16</td><td>i64</td><td>bool</td></tr></thead><tbody><tr><td>&quot;bd07ff29e41ade5cfd3b329acbb7f0…</td><td>&quot;https://www.foerderdatenbank.d…</td><td>&quot;Förderung der Teilhabe und Unt…</td><td>&quot;&lt;h3&gt;Kurztext&lt;/h3&gt;\n",
       "&lt;p&gt;Wenn Sie …</td><td>&quot;Förderung der Teilhabe und Unt…</td><td>0.499346</td><td>0.025244</td><td>true</td><td>true</td><td>1</td><td>0</td><td>true</td></tr><tr><td>&quot;1dcb85882697790942fd2a4a284827…</td><td>&quot;https://www.foerderdatenbank.d…</td><td>&quot;Zuwendungen im Rahmen des Asyl…</td><td>&quot;&lt;h3&gt;Kurztext&lt;/h3&gt;\n",
       "&lt;p&gt;Wenn Sie …</td><td>&quot;Zuwendungen im Rahmen des Asyl…</td><td>0.499673</td><td>0.063271</td><td>true</td><td>true</td><td>1</td><td>0</td><td>true</td></tr><tr><td>&quot;cf0977d6f26f94db220e54baffb615…</td><td>&quot;https://www.foerderdatenbank.d…</td><td>&quot;Deutschkenntnisse und Sprachmi…</td><td>&quot;&lt;h3&gt;Kurztext&lt;/h3&gt;\n",
       "&lt;p&gt;Wenn Sie …</td><td>&quot;Deutschkenntnisse und Sprachmi…</td><td>0.499837</td><td>0.021668</td><td>true</td><td>true</td><td>1</td><td>0</td><td>true</td></tr><tr><td>&quot;142a57177efca34e2216e6bf8ff862…</td><td>&quot;https://www.foerderdatenbank.d…</td><td>&quot;Förderung von Forschungsprojek…</td><td>&quot;&lt;h5&gt;Rechtsgrundlage&lt;/h5&gt;\n",
       "&lt;p&gt;Ri…</td><td>&quot;Förderung von Forschungsprojek…</td><td>0.499183</td><td>0.056132</td><td>true</td><td>true</td><td>0</td><td>1</td><td>true</td></tr><tr><td>&quot;9ee45fc0247f47364782f66e48d4c8…</td><td>&quot;https://www.foerderdatenbank.d…</td><td>&quot;Förderung von Qualifizierungs-…</td><td>&quot;&lt;h3&gt;Kurztext&lt;/h3&gt;\n",
       "&lt;p&gt;Wenn Sie …</td><td>&quot;Förderung von Qualifizierungs-…</td><td>0.499837</td><td>0.180389</td><td>true</td><td>true</td><td>1</td><td>0</td><td>true</td></tr><tr><td>&hellip;</td><td>&hellip;</td><td>&hellip;</td><td>&hellip;</td><td>&hellip;</td><td>&hellip;</td><td>&hellip;</td><td>&hellip;</td><td>&hellip;</td><td>&hellip;</td><td>&hellip;</td><td>&hellip;</td></tr><tr><td>&quot;67e0acac0b9837a91570ea83ea5b06…</td><td>&quot;https://www.foerderdatenbank.d…</td><td>&quot;Förderung modellhafter und inn…</td><td>&quot;&lt;h3&gt;Kurztext&lt;/h3&gt;\n",
       "&lt;p&gt;Wenn Sie …</td><td>&quot;Förderung modellhafter und inn…</td><td>0.499183</td><td>0.001453</td><td>true</td><td>true</td><td>0</td><td>1</td><td>true</td></tr><tr><td>&quot;ce5fec13514752c0fa2666b786f656…</td><td>&quot;https://www.foerderdatenbank.d…</td><td>&quot;Förderung von Projekten zur Bi…</td><td>&quot;&lt;h3&gt;Kurztext&lt;/h3&gt;\n",
       "&lt;p&gt;Wenn Sie …</td><td>&quot;Förderung von Projekten zur Bi…</td><td>0.499673</td><td>0.073531</td><td>true</td><td>true</td><td>1</td><td>0</td><td>true</td></tr><tr><td>&quot;567bc695c6dc1c12a9fdff787e0261…</td><td>&quot;https://www.foerderdatenbank.d…</td><td>&quot;Förderung von Projekten der Kr…</td><td>&quot;&lt;h3&gt;Kurztext&lt;/h3&gt;\n",
       "&lt;p&gt;Wenn Sie …</td><td>&quot;Förderung von Projekten der Kr…</td><td>0.499837</td><td>0.082165</td><td>true</td><td>true</td><td>1</td><td>0</td><td>true</td></tr><tr><td>&quot;01410fe5dcf236c399f2edfe1adf13…</td><td>&quot;https://www.foerderdatenbank.d…</td><td>&quot;Förderrichtlinie zum Ausbau in…</td><td>&quot;&lt;h3&gt;Kurztext&lt;/h3&gt;\n",
       "&lt;p&gt;Wenn Sie …</td><td>&quot;Förderrichtlinie zum Ausbau in…</td><td>0.499837</td><td>0.26125</td><td>true</td><td>true</td><td>1</td><td>0</td><td>true</td></tr><tr><td>&quot;a2e43b78f39bd894e22c12049685c8…</td><td>&quot;https://www.foerderdatenbank.d…</td><td>&quot;Justiz (2021–2027)&quot;</td><td>&quot;&lt;h3&gt;Kurztext&lt;/h3&gt;\n",
       "&lt;p&gt;Das Justi…</td><td>&quot;Justiz (2021–2027) (Förderbere…</td><td>0.49951</td><td>0.231028</td><td>true</td><td>true</td><td>0</td><td>1</td><td>true</td></tr></tbody></table></div>"
      ],
      "text/plain": [
       "shape: (13, 12)\n",
       "┌────────────┬────────────┬────────────┬───────────┬───┬───────────┬───────────┬───────┬───────────┐\n",
       "│ id_hash    ┆ url        ┆ title      ┆ descripti ┆ … ┆ is_label_ ┆ predicted ┆ label ┆ label_mis │\n",
       "│ ---        ┆ ---        ┆ ---        ┆ on_html   ┆   ┆ issue     ┆ _label    ┆ ---   ┆ match     │\n",
       "│ str        ┆ str        ┆ str        ┆ ---       ┆   ┆ ---       ┆ ---       ┆ i64   ┆ ---       │\n",
       "│            ┆            ┆            ┆ str       ┆   ┆ bool      ┆ i16       ┆       ┆ bool      │\n",
       "╞════════════╪════════════╪════════════╪═══════════╪═══╪═══════════╪═══════════╪═══════╪═══════════╡\n",
       "│ bd07ff29e4 ┆ https://ww ┆ Förderung  ┆ <h3>Kurzt ┆ … ┆ true      ┆ 1         ┆ 0     ┆ true      │\n",
       "│ 1ade5cfd3b ┆ w.foerderd ┆ der        ┆ ext</h3>  ┆   ┆           ┆           ┆       ┆           │\n",
       "│ 329acbb7f0 ┆ atenbank.d ┆ Teilhabe   ┆ <p>Wenn   ┆   ┆           ┆           ┆       ┆           │\n",
       "│ …          ┆ …          ┆ und Unt…   ┆ Sie …     ┆   ┆           ┆           ┆       ┆           │\n",
       "│ 1dcb858826 ┆ https://ww ┆ Zuwendunge ┆ <h3>Kurzt ┆ … ┆ true      ┆ 1         ┆ 0     ┆ true      │\n",
       "│ 97790942fd ┆ w.foerderd ┆ n im       ┆ ext</h3>  ┆   ┆           ┆           ┆       ┆           │\n",
       "│ 2a4a284827 ┆ atenbank.d ┆ Rahmen des ┆ <p>Wenn   ┆   ┆           ┆           ┆       ┆           │\n",
       "│ …          ┆ …          ┆ Asyl…      ┆ Sie …     ┆   ┆           ┆           ┆       ┆           │\n",
       "│ cf0977d6f2 ┆ https://ww ┆ Deutschken ┆ <h3>Kurzt ┆ … ┆ true      ┆ 1         ┆ 0     ┆ true      │\n",
       "│ 6f94db220e ┆ w.foerderd ┆ ntnisse    ┆ ext</h3>  ┆   ┆           ┆           ┆       ┆           │\n",
       "│ 54baffb615 ┆ atenbank.d ┆ und        ┆ <p>Wenn   ┆   ┆           ┆           ┆       ┆           │\n",
       "│ …          ┆ …          ┆ Sprachmi…  ┆ Sie …     ┆   ┆           ┆           ┆       ┆           │\n",
       "│ 142a57177e ┆ https://ww ┆ Förderung  ┆ <h5>Recht ┆ … ┆ true      ┆ 0         ┆ 1     ┆ true      │\n",
       "│ fca34e2216 ┆ w.foerderd ┆ von Forsch ┆ sgrundlag ┆   ┆           ┆           ┆       ┆           │\n",
       "│ e6bf8ff862 ┆ atenbank.d ┆ ungsprojek ┆ e</h5>    ┆   ┆           ┆           ┆       ┆           │\n",
       "│ …          ┆ …          ┆ …          ┆ <p>Ri…    ┆   ┆           ┆           ┆       ┆           │\n",
       "│ 9ee45fc024 ┆ https://ww ┆ Förderung  ┆ <h3>Kurzt ┆ … ┆ true      ┆ 1         ┆ 0     ┆ true      │\n",
       "│ 7f47364782 ┆ w.foerderd ┆ von Qualif ┆ ext</h3>  ┆   ┆           ┆           ┆       ┆           │\n",
       "│ f66e48d4c8 ┆ atenbank.d ┆ izierungs- ┆ <p>Wenn   ┆   ┆           ┆           ┆       ┆           │\n",
       "│ …          ┆ …          ┆ …          ┆ Sie …     ┆   ┆           ┆           ┆       ┆           │\n",
       "│ …          ┆ …          ┆ …          ┆ …         ┆ … ┆ …         ┆ …         ┆ …     ┆ …         │\n",
       "│ 67e0acac0b ┆ https://ww ┆ Förderung  ┆ <h3>Kurzt ┆ … ┆ true      ┆ 0         ┆ 1     ┆ true      │\n",
       "│ 9837a91570 ┆ w.foerderd ┆ modellhaft ┆ ext</h3>  ┆   ┆           ┆           ┆       ┆           │\n",
       "│ ea83ea5b06 ┆ atenbank.d ┆ er und     ┆ <p>Wenn   ┆   ┆           ┆           ┆       ┆           │\n",
       "│ …          ┆ …          ┆ inn…       ┆ Sie …     ┆   ┆           ┆           ┆       ┆           │\n",
       "│ ce5fec1351 ┆ https://ww ┆ Förderung  ┆ <h3>Kurzt ┆ … ┆ true      ┆ 1         ┆ 0     ┆ true      │\n",
       "│ 4752c0fa26 ┆ w.foerderd ┆ von        ┆ ext</h3>  ┆   ┆           ┆           ┆       ┆           │\n",
       "│ 66b786f656 ┆ atenbank.d ┆ Projekten  ┆ <p>Wenn   ┆   ┆           ┆           ┆       ┆           │\n",
       "│ …          ┆ …          ┆ zur Bi…    ┆ Sie …     ┆   ┆           ┆           ┆       ┆           │\n",
       "│ 567bc695c6 ┆ https://ww ┆ Förderung  ┆ <h3>Kurzt ┆ … ┆ true      ┆ 1         ┆ 0     ┆ true      │\n",
       "│ dc1c12a9fd ┆ w.foerderd ┆ von        ┆ ext</h3>  ┆   ┆           ┆           ┆       ┆           │\n",
       "│ ff787e0261 ┆ atenbank.d ┆ Projekten  ┆ <p>Wenn   ┆   ┆           ┆           ┆       ┆           │\n",
       "│ …          ┆ …          ┆ der Kr…    ┆ Sie …     ┆   ┆           ┆           ┆       ┆           │\n",
       "│ 01410fe5dc ┆ https://ww ┆ Förderrich ┆ <h3>Kurzt ┆ … ┆ true      ┆ 1         ┆ 0     ┆ true      │\n",
       "│ f236c399f2 ┆ w.foerderd ┆ tlinie zum ┆ ext</h3>  ┆   ┆           ┆           ┆       ┆           │\n",
       "│ edfe1adf13 ┆ atenbank.d ┆ Ausbau in… ┆ <p>Wenn   ┆   ┆           ┆           ┆       ┆           │\n",
       "│ …          ┆ …          ┆            ┆ Sie …     ┆   ┆           ┆           ┆       ┆           │\n",
       "│ a2e43b78f3 ┆ https://ww ┆ Justiz (20 ┆ <h3>Kurzt ┆ … ┆ true      ┆ 0         ┆ 1     ┆ true      │\n",
       "│ 9bd894e22c ┆ w.foerderd ┆ 21–2027)   ┆ ext</h3>  ┆   ┆           ┆           ┆       ┆           │\n",
       "│ 12049685c8 ┆ atenbank.d ┆            ┆ <p>Das    ┆   ┆           ┆           ┆       ┆           │\n",
       "│ …          ┆ …          ┆            ┆ Justi…    ┆   ┆           ┆           ┆       ┆           │\n",
       "└────────────┴────────────┴────────────┴───────────┴───┴───────────┴───────────┴───────┴───────────┘"
      ]
     },
     "execution_count": 227,
     "metadata": {},
     "output_type": "execute_result"
    }
   ],
   "source": [
    "cdf.filter(\n",
    "    (pl.col(\"is_detrimental\") == True) & (pl.col(\"is_label_issue\") == True)\n",
    ")"
   ]
  },
  {
   "cell_type": "code",
   "execution_count": 228,
   "metadata": {},
   "outputs": [],
   "source": [
    "cdf.write_csv(\"../data/labeled/19_06/to_correct.csv\")"
   ]
  }
 ],
 "metadata": {
  "kernelspec": {
   "display_name": ".venv",
   "language": "python",
   "name": "python3"
  },
  "language_info": {
   "codemirror_mode": {
    "name": "ipython",
    "version": 3
   },
   "file_extension": ".py",
   "mimetype": "text/x-python",
   "name": "python",
   "nbconvert_exporter": "python",
   "pygments_lexer": "ipython3",
   "version": "3.12.7"
  }
 },
 "nbformat": 4,
 "nbformat_minor": 2
}
