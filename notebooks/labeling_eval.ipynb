{
 "cells": [
  {
   "cell_type": "code",
   "execution_count": 97,
   "metadata": {},
   "outputs": [],
   "source": [
    "from cleanlab import Datalab\n",
    "from sklearn.feature_extraction.text import TfidfVectorizer\n",
    "import pandas as pd\n",
    "import polars as pl\n",
    "import seaborn as sns\n",
    "from matplotlib import pyplot as plt\n",
    "from lib.MLP import BinaryTfidfMLPClassifier\n",
    "from sklearn.model_selection import StratifiedKFold\n",
    "from cleanlab.filter import find_label_issues\n",
    "from sklearn.model_selection import StratifiedKFold\n",
    "import numpy as np\n",
    "from cleanlab.classification import CleanLearning"
   ]
  },
  {
   "cell_type": "markdown",
   "metadata": {},
   "source": [
    "## Cleanlab\n",
    "### Datalab Data Valuation\n",
    "Cleanlab’s Shapely scores are transformed to lie between 0 and 1 such that: a score below 0.5 indicates a negative contribution to the model’s training performance, while a score above 0.5 indicates a positive contribution."
   ]
  },
  {
   "cell_type": "code",
   "execution_count": 98,
   "metadata": {},
   "outputs": [],
   "source": [
    "df = pl.read_csv(\"../data/labeled/19_06/to_classify.csv\").to_pandas()\n",
    "\n",
    "true_labels = df['label'].to_list()\n",
    "\n",
    "vectorizer = TfidfVectorizer()\n",
    "\n",
    "# Transform the text data into a feature matrix\n",
    "X_vectorized = vectorizer.fit_transform(df['description_title_cats_compact'])\n",
    "\n",
    "# Convert the sparse matrix to a dense matrix\n",
    "X = X_vectorized.toarray()"
   ]
  },
  {
   "cell_type": "code",
   "execution_count": 99,
   "metadata": {},
   "outputs": [
    {
     "name": "stdout",
     "output_type": "stream",
     "text": [
      "Finding data_valuation issues ...\n",
      "\n",
      "Audit complete. 55 issues found in the dataset.\n"
     ]
    }
   ],
   "source": [
    "lab = Datalab(data=df, label_name=\"label\", task=\"classification\")\n",
    "\n",
    "# Perform data valuation\n",
    "lab.find_issues(features=X, issue_types={\"data_valuation\": {}})\n",
    "\n",
    "# Collect the identified issues\n",
    "data_valuation_issues = lab.get_issues(\"data_valuation\")"
   ]
  },
  {
   "cell_type": "code",
   "execution_count": 100,
   "metadata": {},
   "outputs": [
    {
     "data": {
      "text/html": [
       "<div>\n",
       "<style scoped>\n",
       "    .dataframe tbody tr th:only-of-type {\n",
       "        vertical-align: middle;\n",
       "    }\n",
       "\n",
       "    .dataframe tbody tr th {\n",
       "        vertical-align: top;\n",
       "    }\n",
       "\n",
       "    .dataframe thead th {\n",
       "        text-align: right;\n",
       "    }\n",
       "</style>\n",
       "<table border=\"1\" class=\"dataframe\">\n",
       "  <thead>\n",
       "    <tr style=\"text-align: right;\">\n",
       "      <th></th>\n",
       "      <th>data_valuation_score</th>\n",
       "      <th>label</th>\n",
       "      <th>description_title_cats_compact</th>\n",
       "      <th>id_hash</th>\n",
       "    </tr>\n",
       "  </thead>\n",
       "  <tbody>\n",
       "    <tr>\n",
       "      <th>120</th>\n",
       "      <td>0.497386</td>\n",
       "      <td>1</td>\n",
       "      <td>Förderung der selbstbestimmten Teilhabe von Me...</td>\n",
       "      <td>977e06d07074d61f892107592c378944</td>\n",
       "    </tr>\n",
       "    <tr>\n",
       "      <th>72</th>\n",
       "      <td>0.497549</td>\n",
       "      <td>1</td>\n",
       "      <td>Förderung von Forschungsvorhaben „Plattform Pr...</td>\n",
       "      <td>892750f7bab363532b99225c7886cd11</td>\n",
       "    </tr>\n",
       "    <tr>\n",
       "      <th>254</th>\n",
       "      <td>0.497712</td>\n",
       "      <td>1</td>\n",
       "      <td>Integrationsprojekte für Menschen mit Migratio...</td>\n",
       "      <td>6b4d125864be5f08e7819b80af8b5029</td>\n",
       "    </tr>\n",
       "    <tr>\n",
       "      <th>53</th>\n",
       "      <td>0.498039</td>\n",
       "      <td>1</td>\n",
       "      <td>ESF-Bundesprogramm – „rückenwind3 für Vielfalt...</td>\n",
       "      <td>83d023d6f250ed596d6dbc0aa3ce7ec7</td>\n",
       "    </tr>\n",
       "    <tr>\n",
       "      <th>7</th>\n",
       "      <td>0.498039</td>\n",
       "      <td>1</td>\n",
       "      <td>Förderung von Projekten zur Inklusion, Partizi...</td>\n",
       "      <td>eda305464ae068152d4c084989b6a2ff</td>\n",
       "    </tr>\n",
       "    <tr>\n",
       "      <th>8</th>\n",
       "      <td>0.498366</td>\n",
       "      <td>1</td>\n",
       "      <td>Hamburger Partizipationsfonds (Förderbereich: ...</td>\n",
       "      <td>787895b92b2a20631d7053bb2aa7e2c4</td>\n",
       "    </tr>\n",
       "    <tr>\n",
       "      <th>121</th>\n",
       "      <td>0.498693</td>\n",
       "      <td>1</td>\n",
       "      <td>Bürgerinnen und Bürger, Gleichstellung, Rechte...</td>\n",
       "      <td>7b228e2288ba3580d0aaac6df450b7f2</td>\n",
       "    </tr>\n",
       "    <tr>\n",
       "      <th>59</th>\n",
       "      <td>0.498693</td>\n",
       "      <td>1</td>\n",
       "      <td>Förderung von Kleinprojekten (Förderbereich: A...</td>\n",
       "      <td>122a5f6220d57c8614c593ea50188d31</td>\n",
       "    </tr>\n",
       "    <tr>\n",
       "      <th>128</th>\n",
       "      <td>0.498693</td>\n",
       "      <td>1</td>\n",
       "      <td>Umsetzung inklusiver Maßnahmen (RL Inklusion) ...</td>\n",
       "      <td>d72dc9bfe82d80f2fcb13cd6eafc39bc</td>\n",
       "    </tr>\n",
       "    <tr>\n",
       "      <th>235</th>\n",
       "      <td>0.498856</td>\n",
       "      <td>1</td>\n",
       "      <td>Förderung der Migrationsberatung in Niedersach...</td>\n",
       "      <td>2e9c664847c7be79bdd14975da44163e</td>\n",
       "    </tr>\n",
       "  </tbody>\n",
       "</table>\n",
       "</div>"
      ],
      "text/plain": [
       "     data_valuation_score  label  \\\n",
       "120              0.497386      1   \n",
       "72               0.497549      1   \n",
       "254              0.497712      1   \n",
       "53               0.498039      1   \n",
       "7                0.498039      1   \n",
       "8                0.498366      1   \n",
       "121              0.498693      1   \n",
       "59               0.498693      1   \n",
       "128              0.498693      1   \n",
       "235              0.498856      1   \n",
       "\n",
       "                        description_title_cats_compact  \\\n",
       "120  Förderung der selbstbestimmten Teilhabe von Me...   \n",
       "72   Förderung von Forschungsvorhaben „Plattform Pr...   \n",
       "254  Integrationsprojekte für Menschen mit Migratio...   \n",
       "53   ESF-Bundesprogramm – „rückenwind3 für Vielfalt...   \n",
       "7    Förderung von Projekten zur Inklusion, Partizi...   \n",
       "8    Hamburger Partizipationsfonds (Förderbereich: ...   \n",
       "121  Bürgerinnen und Bürger, Gleichstellung, Rechte...   \n",
       "59   Förderung von Kleinprojekten (Förderbereich: A...   \n",
       "128  Umsetzung inklusiver Maßnahmen (RL Inklusion) ...   \n",
       "235  Förderung der Migrationsberatung in Niedersach...   \n",
       "\n",
       "                              id_hash  \n",
       "120  977e06d07074d61f892107592c378944  \n",
       "72   892750f7bab363532b99225c7886cd11  \n",
       "254  6b4d125864be5f08e7819b80af8b5029  \n",
       "53   83d023d6f250ed596d6dbc0aa3ce7ec7  \n",
       "7    eda305464ae068152d4c084989b6a2ff  \n",
       "8    787895b92b2a20631d7053bb2aa7e2c4  \n",
       "121  7b228e2288ba3580d0aaac6df450b7f2  \n",
       "59   122a5f6220d57c8614c593ea50188d31  \n",
       "128  d72dc9bfe82d80f2fcb13cd6eafc39bc  \n",
       "235  2e9c664847c7be79bdd14975da44163e  "
      ]
     },
     "execution_count": 100,
     "metadata": {},
     "output_type": "execute_result"
    }
   ],
   "source": [
    "mask = data_valuation_issues[\"data_valuation_score\"] < 0.5\n",
    "original_indices = data_valuation_issues[mask].index.tolist()\n",
    "\n",
    "# Add data valuation score to original df\n",
    "df[\"data_valuation_score\"] = data_valuation_issues[\"data_valuation_score\"]\n",
    "\n",
    "# Then filter\n",
    "df.loc[original_indices].sort_values(by=\"data_valuation_score\")[[\"data_valuation_score\",\"label\",\"description_title_cats_compact\", \"id_hash\"]].iloc[:10]"
   ]
  },
  {
   "cell_type": "code",
   "execution_count": 101,
   "metadata": {},
   "outputs": [],
   "source": [
    "data_val_hashes = df.loc[original_indices][\"id_hash\"].to_list()"
   ]
  },
  {
   "cell_type": "code",
   "execution_count": 102,
   "metadata": {},
   "outputs": [
    {
     "data": {
      "image/png": "[encoded data removed]",
      "text/plain": [
       "<Figure size 640x480 with 1 Axes>"
      ]
     },
     "metadata": {},
     "output_type": "display_data"
    }
   ],
   "source": [
    "plot_data = (\n",
    "    data_valuation_issues\n",
    "    # Optionally, add a 'given_label' column to distinguish between labels in the histogram\n",
    "    .join(pd.DataFrame({\"given_label\": df[\"label\"]}))\n",
    ")\n",
    "\n",
    "# Plot strip plots of data valuation scores for each label\n",
    "sns.stripplot(\n",
    "    data=plot_data,\n",
    "    x=\"data_valuation_score\",\n",
    "    hue=\"given_label\",  # Comment out if no labels should be used in the visualization\n",
    "    dodge=True,\n",
    "    jitter=0.3,\n",
    "    alpha=0.5,\n",
    ")\n",
    "\n",
    "plt.axvline(lab.info[\"data_valuation\"][\"threshold\"], color=\"red\", linestyle=\"--\", label=\"Issue Threshold\")\n",
    "\n",
    "plt.title(\"Strip plot of Data Valuation Scores by Label\")\n",
    "plt.xlabel(\"Data Valuation Score\")\n",
    "plt.legend()\n",
    "plt.show()"
   ]
  },
  {
   "cell_type": "markdown",
   "metadata": {},
   "source": [
    "### Identify labeling issues with existing classifier"
   ]
  },
  {
   "cell_type": "code",
   "execution_count": 111,
   "metadata": {},
   "outputs": [
    {
     "data": {
      "text/html": [
       "<div>\n",
       "<style scoped>\n",
       "    .dataframe tbody tr th:only-of-type {\n",
       "        vertical-align: middle;\n",
       "    }\n",
       "\n",
       "    .dataframe tbody tr th {\n",
       "        vertical-align: top;\n",
       "    }\n",
       "\n",
       "    .dataframe thead th {\n",
       "        text-align: right;\n",
       "    }\n",
       "</style>\n",
       "<table border=\"1\" class=\"dataframe\">\n",
       "  <thead>\n",
       "    <tr style=\"text-align: right;\">\n",
       "      <th></th>\n",
       "      <th>is_label_issue</th>\n",
       "      <th>label_quality</th>\n",
       "      <th>given_label</th>\n",
       "      <th>predicted_label</th>\n",
       "    </tr>\n",
       "  </thead>\n",
       "  <tbody>\n",
       "    <tr>\n",
       "      <th>0</th>\n",
       "      <td>True</td>\n",
       "      <td>0.157935</td>\n",
       "      <td>1</td>\n",
       "      <td>0</td>\n",
       "    </tr>\n",
       "    <tr>\n",
       "      <th>1</th>\n",
       "      <td>False</td>\n",
       "      <td>0.981055</td>\n",
       "      <td>1</td>\n",
       "      <td>1</td>\n",
       "    </tr>\n",
       "    <tr>\n",
       "      <th>2</th>\n",
       "      <td>False</td>\n",
       "      <td>0.986736</td>\n",
       "      <td>0</td>\n",
       "      <td>0</td>\n",
       "    </tr>\n",
       "    <tr>\n",
       "      <th>3</th>\n",
       "      <td>False</td>\n",
       "      <td>0.992934</td>\n",
       "      <td>0</td>\n",
       "      <td>0</td>\n",
       "    </tr>\n",
       "    <tr>\n",
       "      <th>4</th>\n",
       "      <td>True</td>\n",
       "      <td>0.192988</td>\n",
       "      <td>0</td>\n",
       "      <td>1</td>\n",
       "    </tr>\n",
       "  </tbody>\n",
       "</table>\n",
       "</div>"
      ],
      "text/plain": [
       "   is_label_issue  label_quality  given_label  predicted_label\n",
       "0            True       0.157935            1                0\n",
       "1           False       0.981055            1                1\n",
       "2           False       0.986736            0                0\n",
       "3           False       0.992934            0                0\n",
       "4            True       0.192988            0                1"
      ]
     },
     "execution_count": 111,
     "metadata": {},
     "output_type": "execute_result"
    }
   ],
   "source": [
    "classifier = BinaryTfidfMLPClassifier.from_json('../models/tfidf_mlp_results_f1_0.7656.json')\n",
    "cl = CleanLearning(classifier, cv_n_folds=5)\n",
    "\n",
    "skf = StratifiedKFold(n_splits=5)\n",
    "df = pl.read_csv(\"../data/labeled/19_06/to_classify.csv\")\n",
    "texts = df[\"description_title_cats_compact\"].to_list()\n",
    "true_labels = df[\"label\"].to_list()\n",
    "\n",
    "texts_array = np.array(texts)\n",
    "labels_array = np.array(true_labels)\n",
    "\n",
    "label_issues = cl.find_label_issues(\n",
    "    texts_array,\n",
    "    labels_array)\n",
    "\n",
    "label_issues.head()"
   ]
  },
  {
   "cell_type": "code",
   "execution_count": 104,
   "metadata": {},
   "outputs": [
    {
     "name": "stdout",
     "output_type": "stream",
     "text": [
      "cleanlab found 48 potential label errors in the dataset.\n",
      "\n"
     ]
    }
   ],
   "source": [
    "identified_issues = label_issues[label_issues[\"is_label_issue\"] == True]\n",
    "print(\n",
    "    f\"cleanlab found {len(identified_issues)} potential label errors in the dataset.\\n\"\n",
    ")"
   ]
  },
  {
   "cell_type": "code",
   "execution_count": 105,
   "metadata": {},
   "outputs": [
    {
     "name": "stdout",
     "output_type": "stream",
     "text": [
      "                                                                                                    text   quality  given_label  predicted_label\n",
      "72   Förderung von Forschungsvorhaben „Plattform Privatheit – IT-Sicherheit schützt Privatheit und st...  0.000441            1                0\n",
      "27   Zuwendungen im Rahmen des Asyl-, Migrations- und Integrationsfonds (Förderbereich: Gesundheit & ...  0.011264            0                1\n",
      "110  Europäischer Sozialfonds Plus (ESF+) in Hamburg (Förderbereich: Aus- & Weiterbildung, Arbeit, Fr...  0.012598            0                1\n",
      "248  Förderung von Maßnahmen im Bereich des Bürgerschaftlichen Engagements (Förderbereich: Gesundheit...  0.015398            0                1\n",
      "82   Europäischer Sozialfonds Plus (ESF+) im Saarland (Förderbereich: Arbeit, Aus- & Weiterbildung, F...  0.016858            0                1\n",
      "42   Deutschkenntnisse und Sprachmittlung bei Geflüchteten und anderen Menschen mit Migrationshinterg...  0.016896            0                1\n",
      "12   Förderung im Rahmen des ESF Plus-Bundesprogramms „Akti(F) Plus – Aktiv für Familien und ihre Kin...  0.019809            0                1\n",
      "277  Förderung der Kinder- und Jugendhilfe durch den Kinder- und Jugendplan des Bundes (KJP) (Förderb...  0.021479            0                1\n",
      "186  Förderung der Durchführung von Asylverfahrensberatung (AVB) und Rechtsberatung für vulnerable An...  0.025706            0                1\n",
      "26   Beratungsstellen im Bereich Gewalt gegen Kinder und Jugendliche (Förderbereich: Gesundheit & Soz...  0.026875            0                1\n",
      "102  Förderung allgemeiner sozialer Maßnahmen wohlfahrtsverbandsunabhängiger Träger (Förderbereich: G...  0.027756            0                1\n",
      "192  Migrationsberatung für erwachsene Zuwanderer (MBE) (Förderbereich: Gesundheit & Soziales; Förder...  0.029178            0                1\n",
      "18   Förderung der Teilhabe und Unterstützung älterer Menschen (RL Ältere Menschen) (Förderbereich: G...  0.030494            0                1\n",
      "189  „Gemeinsam aktiv – Bürgerengagement in Hessen“ (Förderbereich: Gesundheit & Soziales; Förderbere...  0.030531            0                1\n",
      "151  ESF-Bundesprogramm – „Wandel der Arbeit sozialpartnerschaftlich gestalten: weiter bilden und Gle...  0.034861            0                1\n",
      "167  Zuwendungen zur Umsetzung des Landesprogramms „2.000 x 1.000 Euro für das Engagement“ (Förderber...  0.037894            0                1\n",
      "202  Förderung modellhafter und innovativer Projektideen im Rahmen des Land.OpenData-Ideenwettbewerbs...  0.039682            1                0\n",
      "249  Förderung von Schulsozialarbeit (Förderbereich: Gesundheit & Soziales; Förderberechtigte: Kommun...  0.047816            0                1\n",
      "85   Förderung im Rahmen des Professorinnenprogramms 2030 (Förderbereich: Frauenförderung, Gesundheit...  0.048296            0                1\n",
      "194  Heimat-Werkstatt (Förderbereich: Kultur, Medien & Sport, Gesundheit & Soziales; Förderberechtigt...  0.052615            0                1\n",
      "\n",
      "[20 rows x 4 columns]\n"
     ]
    }
   ],
   "source": [
    "pdf = pd.DataFrame(\n",
    "    {\n",
    "        \"text\": texts,\n",
    "        \"quality\": label_issues[\"label_quality\"],\n",
    "        \"given_label\": true_labels,\n",
    "        \"predicted_label\": label_issues[\"predicted_label\"],\n",
    "    },\n",
    ").sort_values(by=\"quality\", ascending=True).iloc[:20]\n",
    "\n",
    "print(pdf.to_string(\n",
    "    max_colwidth=100,\n",
    "    max_rows=None,\n",
    "    max_cols=None,\n",
    "    show_dimensions=True\n",
    "))\n"
   ]
  },
  {
   "cell_type": "code",
   "execution_count": 110,
   "metadata": {},
   "outputs": [],
   "source": [
    "pdf = pd.DataFrame(\n",
    "    {\n",
    "        \"is_label_issue\": label_issues[\"is_label_issue\"],\n",
    "        \"id_hash\" : df[\"id_hash\"].to_list()\n",
    "    },\n",
    ")\n",
    "label_issue_id_hashes = pdf[pdf[\"is_label_issue\"] == True][\"id_hash\"].to_list()"
   ]
  },
  {
   "cell_type": "markdown",
   "metadata": {},
   "source": [
    "### Combining metrics"
   ]
  },
  {
   "cell_type": "code",
   "execution_count": 109,
   "metadata": {},
   "outputs": [
    {
     "name": "stdout",
     "output_type": "stream",
     "text": [
      "Intersection: 12\n",
      "Union: 91\n",
      "Data val hashes: 55\n",
      "Label issue id hashes: 48\n"
     ]
    }
   ],
   "source": [
    "# get intersection of data_val_hashes and label_issue_id_hashes\n",
    "intersection = set(data_val_hashes).intersection(set(label_issue_id_hashes))\n",
    "print(f\"Intersection: {len(intersection)}\")\n",
    "# get union\n",
    "union = set(data_val_hashes).union(set(label_issue_id_hashes))\n",
    "print(f\"Union: {len(union)}\")\n",
    "print(f\"Data val hashes: {len(data_val_hashes)}\")\n",
    "print(f\"Label issue id hashes: {len(label_issue_id_hashes)}\")\n",
    "                         "
   ]
  },
  {
   "cell_type": "code",
   "execution_count": 126,
   "metadata": {},
   "outputs": [
    {
     "name": "stdout",
     "output_type": "stream",
     "text": [
      "(91, 12)\n"
     ]
    },
    {
     "data": {
      "text/html": [
       "<div><style>\n",
       ".dataframe > thead > tr,\n",
       ".dataframe > tbody > tr {\n",
       "  text-align: right;\n",
       "  white-space: pre-wrap;\n",
       "}\n",
       "</style>\n",
       "<small>shape: (5, 12)</small><table border=\"1\" class=\"dataframe\"><thead><tr><th>id_hash</th><th>url</th><th>description_md</th><th>description_title_cats_compact</th><th>title</th><th>data_valuation_score</th><th>label_quality</th><th>is_detrimental</th><th>is_label_issue</th><th>predicted_label</th><th>label</th><th>label_mismatch</th></tr><tr><td>str</td><td>str</td><td>str</td><td>str</td><td>str</td><td>f64</td><td>f64</td><td>bool</td><td>bool</td><td>i16</td><td>i64</td><td>bool</td></tr></thead><tbody><tr><td>&quot;6f591d0a0cdb3ad8427f9d6461450b…</td><td>&quot;https://www.foerderdatenbank.d…</td><td>&quot;### Kurztext\n",
       "\n",
       "Wenn Sie Erstori…</td><td>&quot;Erstorientierungskurse für Sch…</td><td>&quot;Erstorientierungskurse für Sch…</td><td>0.499837</td><td>0.157935</td><td>true</td><td>true</td><td>0</td><td>1</td><td>true</td></tr><tr><td>&quot;9004f112d3f865010a2fa6ae3d8ac6…</td><td>&quot;https://www.foerderdatenbank.d…</td><td>&quot;### Kurztext\n",
       "\n",
       "Wenn Sie als Ver…</td><td>&quot;Zusammenhalt durch Teilhabe (F…</td><td>&quot;Zusammenhalt durch Teilhabe&quot;</td><td>0.499837</td><td>0.981055</td><td>true</td><td>false</td><td>1</td><td>1</td><td>false</td></tr><tr><td>&quot;552a0ea7a1bb4c8c25f0962cfdf4b3…</td><td>&quot;https://www.foerderdatenbank.d…</td><td>&quot;### Kurztext\n",
       "\n",
       "Wenn Sie familie…</td><td>&quot;Förderung familienentlastender…</td><td>&quot;Förderung familienentlastender…</td><td>0.5</td><td>0.192988</td><td>false</td><td>true</td><td>1</td><td>0</td><td>true</td></tr><tr><td>&quot;a429c83ca5a9e1776f0760251ac061…</td><td>&quot;https://www.foerderdatenbank.d…</td><td>&quot;### Kurztext\n",
       "\n",
       "Wenn Sie Maßnahm…</td><td>&quot;Förderung nach dem Kinder- und…</td><td>&quot;Förderung nach dem Kinder- und…</td><td>0.500163</td><td>0.290878</td><td>false</td><td>false</td><td>1</td><td>0</td><td>true</td></tr><tr><td>&quot;eda305464ae068152d4c084989b6a2…</td><td>&quot;https://www.foerderdatenbank.d…</td><td>&quot;### Kurztext\n",
       "\n",
       "Wenn Sie Projekt…</td><td>&quot;Förderung von Projekten zur In…</td><td>&quot;Förderung von Projekten zur In…</td><td>0.498039</td><td>0.983354</td><td>true</td><td>false</td><td>1</td><td>1</td><td>false</td></tr></tbody></table></div>"
      ],
      "text/plain": [
       "shape: (5, 12)\n",
       "┌────────────┬────────────┬────────────┬───────────┬───┬───────────┬───────────┬───────┬───────────┐\n",
       "│ id_hash    ┆ url        ┆ descriptio ┆ descripti ┆ … ┆ is_label_ ┆ predicted ┆ label ┆ label_mis │\n",
       "│ ---        ┆ ---        ┆ n_md       ┆ on_title_ ┆   ┆ issue     ┆ _label    ┆ ---   ┆ match     │\n",
       "│ str        ┆ str        ┆ ---        ┆ cats_comp ┆   ┆ ---       ┆ ---       ┆ i64   ┆ ---       │\n",
       "│            ┆            ┆ str        ┆ act       ┆   ┆ bool      ┆ i16       ┆       ┆ bool      │\n",
       "│            ┆            ┆            ┆ ---       ┆   ┆           ┆           ┆       ┆           │\n",
       "│            ┆            ┆            ┆ str       ┆   ┆           ┆           ┆       ┆           │\n",
       "╞════════════╪════════════╪════════════╪═══════════╪═══╪═══════════╪═══════════╪═══════╪═══════════╡\n",
       "│ 6f591d0a0c ┆ https://ww ┆ ###        ┆ Erstorien ┆ … ┆ true      ┆ 0         ┆ 1     ┆ true      │\n",
       "│ db3ad8427f ┆ w.foerderd ┆ Kurztext   ┆ tierungsk ┆   ┆           ┆           ┆       ┆           │\n",
       "│ 9d6461450b ┆ atenbank.d ┆            ┆ urse für  ┆   ┆           ┆           ┆       ┆           │\n",
       "│ …          ┆ …          ┆ Wenn Sie   ┆ Sch…      ┆   ┆           ┆           ┆       ┆           │\n",
       "│            ┆            ┆ Erstori…   ┆           ┆   ┆           ┆           ┆       ┆           │\n",
       "│ 9004f112d3 ┆ https://ww ┆ ###        ┆ Zusammenh ┆ … ┆ false     ┆ 1         ┆ 1     ┆ false     │\n",
       "│ f865010a2f ┆ w.foerderd ┆ Kurztext   ┆ alt durch ┆   ┆           ┆           ┆       ┆           │\n",
       "│ a6ae3d8ac6 ┆ atenbank.d ┆            ┆ Teilhabe  ┆   ┆           ┆           ┆       ┆           │\n",
       "│ …          ┆ …          ┆ Wenn Sie   ┆ (F…       ┆   ┆           ┆           ┆       ┆           │\n",
       "│            ┆            ┆ als Ver…   ┆           ┆   ┆           ┆           ┆       ┆           │\n",
       "│ 552a0ea7a1 ┆ https://ww ┆ ###        ┆ Förderung ┆ … ┆ true      ┆ 1         ┆ 0     ┆ true      │\n",
       "│ bb4c8c25f0 ┆ w.foerderd ┆ Kurztext   ┆ familiene ┆   ┆           ┆           ┆       ┆           │\n",
       "│ 962cfdf4b3 ┆ atenbank.d ┆            ┆ ntlastend ┆   ┆           ┆           ┆       ┆           │\n",
       "│ …          ┆ …          ┆ Wenn Sie   ┆ er…       ┆   ┆           ┆           ┆       ┆           │\n",
       "│            ┆            ┆ familie…   ┆           ┆   ┆           ┆           ┆       ┆           │\n",
       "│ a429c83ca5 ┆ https://ww ┆ ###        ┆ Förderung ┆ … ┆ false     ┆ 1         ┆ 0     ┆ true      │\n",
       "│ a9e1776f07 ┆ w.foerderd ┆ Kurztext   ┆ nach dem  ┆   ┆           ┆           ┆       ┆           │\n",
       "│ 60251ac061 ┆ atenbank.d ┆            ┆ Kinder-   ┆   ┆           ┆           ┆       ┆           │\n",
       "│ …          ┆ …          ┆ Wenn Sie   ┆ und…      ┆   ┆           ┆           ┆       ┆           │\n",
       "│            ┆            ┆ Maßnahm…   ┆           ┆   ┆           ┆           ┆       ┆           │\n",
       "│ eda305464a ┆ https://ww ┆ ###        ┆ Förderung ┆ … ┆ false     ┆ 1         ┆ 1     ┆ false     │\n",
       "│ e068152d4c ┆ w.foerderd ┆ Kurztext   ┆ von       ┆   ┆           ┆           ┆       ┆           │\n",
       "│ 084989b6a2 ┆ atenbank.d ┆            ┆ Projekten ┆   ┆           ┆           ┆       ┆           │\n",
       "│ …          ┆ …          ┆ Wenn Sie   ┆ zur In…   ┆   ┆           ┆           ┆       ┆           │\n",
       "│            ┆            ┆ Projekt…   ┆           ┆   ┆           ┆           ┆       ┆           │\n",
       "└────────────┴────────────┴────────────┴───────────┴───┴───────────┴───────────┴───────┴───────────┘"
      ]
     },
     "execution_count": 126,
     "metadata": {},
     "output_type": "execute_result"
    }
   ],
   "source": [
    "cdf = df.with_columns([\n",
    "    pl.Series(\"data_valuation_score\", data_valuation_issues[\"data_valuation_score\"]),\n",
    "    pl.Series(\"label_quality\", label_issues[\"label_quality\"]),\n",
    "    pl.Series(\"is_label_issue\", label_issues[\"is_label_issue\"]),\n",
    "    pl.Series(\"predicted_label\", label_issues[\"predicted_label\"])\n",
    "])\n",
    "cdf = cdf.with_columns([\n",
    "    (pl.col(\"data_valuation_score\") < 0.5).alias(\"is_detrimental\"),\n",
    "    (pl.col(\"predicted_label\") != pl.col(\"label\")).alias(\"label_mismatch\")\n",
    "])\n",
    "# Create polars df with union hashes\n",
    "cdf = cdf.filter(pl.col(\"id_hash\").is_in(union))[\"id_hash\", \"url\", \"title\", \"description_md\", \"description_title_cats_compact\", \"title\", \"data_valuation_score\", \"label_quality\", \"is_detrimental\",\"is_label_issue\", \"predicted_label\",\"label\",\"label_mismatch\"]\n",
    "print(cdf.shape)\n",
    "cdf.head()\n"
   ]
  },
  {
   "cell_type": "code",
   "execution_count": 127,
   "metadata": {},
   "outputs": [
    {
     "data": {
      "text/html": [
       "<div><style>\n",
       ".dataframe > thead > tr,\n",
       ".dataframe > tbody > tr {\n",
       "  text-align: right;\n",
       "  white-space: pre-wrap;\n",
       "}\n",
       "</style>\n",
       "<small>shape: (13, 12)</small><table border=\"1\" class=\"dataframe\"><thead><tr><th>id_hash</th><th>url</th><th>description_md</th><th>description_title_cats_compact</th><th>title</th><th>data_valuation_score</th><th>label_quality</th><th>is_detrimental</th><th>is_label_issue</th><th>predicted_label</th><th>label</th><th>label_mismatch</th></tr><tr><td>str</td><td>str</td><td>str</td><td>str</td><td>str</td><td>f64</td><td>f64</td><td>bool</td><td>bool</td><td>i16</td><td>i64</td><td>bool</td></tr></thead><tbody><tr><td>&quot;6f591d0a0cdb3ad8427f9d6461450b…</td><td>&quot;https://www.foerderdatenbank.d…</td><td>&quot;### Kurztext\n",
       "\n",
       "Wenn Sie Erstori…</td><td>&quot;Erstorientierungskurse für Sch…</td><td>&quot;Erstorientierungskurse für Sch…</td><td>0.499837</td><td>0.157935</td><td>true</td><td>true</td><td>0</td><td>1</td><td>true</td></tr><tr><td>&quot;bd07ff29e41ade5cfd3b329acbb7f0…</td><td>&quot;https://www.foerderdatenbank.d…</td><td>&quot;### Kurztext\n",
       "\n",
       "Wenn Sie Vorhabe…</td><td>&quot;Förderung der Teilhabe und Unt…</td><td>&quot;Förderung der Teilhabe und Unt…</td><td>0.499346</td><td>0.009722</td><td>true</td><td>true</td><td>1</td><td>0</td><td>true</td></tr><tr><td>&quot;1dcb85882697790942fd2a4a284827…</td><td>&quot;https://www.foerderdatenbank.d…</td><td>&quot;### Kurztext\n",
       "\n",
       "Wenn Sie Maßnahm…</td><td>&quot;Zuwendungen im Rahmen des Asyl…</td><td>&quot;Zuwendungen im Rahmen des Asyl…</td><td>0.499673</td><td>0.01105</td><td>true</td><td>true</td><td>1</td><td>0</td><td>true</td></tr><tr><td>&quot;cf0977d6f26f94db220e54baffb615…</td><td>&quot;https://www.foerderdatenbank.d…</td><td>&quot;### Kurztext\n",
       "\n",
       "Wenn Sie als Sta…</td><td>&quot;Deutschkenntnisse und Sprachmi…</td><td>&quot;Deutschkenntnisse und Sprachmi…</td><td>0.499837</td><td>0.032148</td><td>true</td><td>true</td><td>1</td><td>0</td><td>true</td></tr><tr><td>&quot;142a57177efca34e2216e6bf8ff862…</td><td>&quot;https://www.foerderdatenbank.d…</td><td>&quot;##### Rechtsgrundlage\n",
       "\n",
       "Richtli…</td><td>&quot;Förderung von Forschungsprojek…</td><td>&quot;Förderung von Forschungsprojek…</td><td>0.499183</td><td>0.120954</td><td>true</td><td>true</td><td>0</td><td>1</td><td>true</td></tr><tr><td>&hellip;</td><td>&hellip;</td><td>&hellip;</td><td>&hellip;</td><td>&hellip;</td><td>&hellip;</td><td>&hellip;</td><td>&hellip;</td><td>&hellip;</td><td>&hellip;</td><td>&hellip;</td><td>&hellip;</td></tr><tr><td>&quot;67e0acac0b9837a91570ea83ea5b06…</td><td>&quot;https://www.foerderdatenbank.d…</td><td>&quot;### Kurztext\n",
       "\n",
       "Wenn Sie innovat…</td><td>&quot;Förderung modellhafter und inn…</td><td>&quot;Förderung modellhafter und inn…</td><td>0.499183</td><td>0.025833</td><td>true</td><td>true</td><td>0</td><td>1</td><td>true</td></tr><tr><td>&quot;ce5fec13514752c0fa2666b786f656…</td><td>&quot;https://www.foerderdatenbank.d…</td><td>&quot;### Kurztext\n",
       "\n",
       "Wenn Sie Projekt…</td><td>&quot;Förderung von Projekten zur Bi…</td><td>&quot;Förderung von Projekten zur Bi…</td><td>0.499673</td><td>0.109521</td><td>true</td><td>true</td><td>1</td><td>0</td><td>true</td></tr><tr><td>&quot;567bc695c6dc1c12a9fdff787e0261…</td><td>&quot;https://www.foerderdatenbank.d…</td><td>&quot;### Kurztext\n",
       "\n",
       "Wenn Sie in Meck…</td><td>&quot;Förderung von Projekten der Kr…</td><td>&quot;Förderung von Projekten der Kr…</td><td>0.499837</td><td>0.033906</td><td>true</td><td>true</td><td>1</td><td>0</td><td>true</td></tr><tr><td>&quot;814a681c0d6605cfc406ac457e2beb…</td><td>&quot;https://www.foerderdatenbank.d…</td><td>&quot;### Kurztext\n",
       "\n",
       "Wenn Sie die Arb…</td><td>&quot;Netzwerke integrieren Geflücht…</td><td>&quot;Netzwerke integrieren Geflücht…</td><td>0.49902</td><td>0.437559</td><td>true</td><td>true</td><td>0</td><td>1</td><td>true</td></tr><tr><td>&quot;a2e43b78f39bd894e22c12049685c8…</td><td>&quot;https://www.foerderdatenbank.d…</td><td>&quot;### Kurztext\n",
       "\n",
       "Das Justiz-Progr…</td><td>&quot;Justiz (2021–2027) (Förderbere…</td><td>&quot;Justiz (2021–2027)&quot;</td><td>0.49951</td><td>0.175484</td><td>true</td><td>true</td><td>0</td><td>1</td><td>true</td></tr></tbody></table></div>"
      ],
      "text/plain": [
       "shape: (13, 12)\n",
       "┌────────────┬────────────┬────────────┬───────────┬───┬───────────┬───────────┬───────┬───────────┐\n",
       "│ id_hash    ┆ url        ┆ descriptio ┆ descripti ┆ … ┆ is_label_ ┆ predicted ┆ label ┆ label_mis │\n",
       "│ ---        ┆ ---        ┆ n_md       ┆ on_title_ ┆   ┆ issue     ┆ _label    ┆ ---   ┆ match     │\n",
       "│ str        ┆ str        ┆ ---        ┆ cats_comp ┆   ┆ ---       ┆ ---       ┆ i64   ┆ ---       │\n",
       "│            ┆            ┆ str        ┆ act       ┆   ┆ bool      ┆ i16       ┆       ┆ bool      │\n",
       "│            ┆            ┆            ┆ ---       ┆   ┆           ┆           ┆       ┆           │\n",
       "│            ┆            ┆            ┆ str       ┆   ┆           ┆           ┆       ┆           │\n",
       "╞════════════╪════════════╪════════════╪═══════════╪═══╪═══════════╪═══════════╪═══════╪═══════════╡\n",
       "│ 6f591d0a0c ┆ https://ww ┆ ###        ┆ Erstorien ┆ … ┆ true      ┆ 0         ┆ 1     ┆ true      │\n",
       "│ db3ad8427f ┆ w.foerderd ┆ Kurztext   ┆ tierungsk ┆   ┆           ┆           ┆       ┆           │\n",
       "│ 9d6461450b ┆ atenbank.d ┆            ┆ urse für  ┆   ┆           ┆           ┆       ┆           │\n",
       "│ …          ┆ …          ┆ Wenn Sie   ┆ Sch…      ┆   ┆           ┆           ┆       ┆           │\n",
       "│            ┆            ┆ Erstori…   ┆           ┆   ┆           ┆           ┆       ┆           │\n",
       "│ bd07ff29e4 ┆ https://ww ┆ ###        ┆ Förderung ┆ … ┆ true      ┆ 1         ┆ 0     ┆ true      │\n",
       "│ 1ade5cfd3b ┆ w.foerderd ┆ Kurztext   ┆ der       ┆   ┆           ┆           ┆       ┆           │\n",
       "│ 329acbb7f0 ┆ atenbank.d ┆            ┆ Teilhabe  ┆   ┆           ┆           ┆       ┆           │\n",
       "│ …          ┆ …          ┆ Wenn Sie   ┆ und Unt…  ┆   ┆           ┆           ┆       ┆           │\n",
       "│            ┆            ┆ Vorhabe…   ┆           ┆   ┆           ┆           ┆       ┆           │\n",
       "│ 1dcb858826 ┆ https://ww ┆ ###        ┆ Zuwendung ┆ … ┆ true      ┆ 1         ┆ 0     ┆ true      │\n",
       "│ 97790942fd ┆ w.foerderd ┆ Kurztext   ┆ en im     ┆   ┆           ┆           ┆       ┆           │\n",
       "│ 2a4a284827 ┆ atenbank.d ┆            ┆ Rahmen    ┆   ┆           ┆           ┆       ┆           │\n",
       "│ …          ┆ …          ┆ Wenn Sie   ┆ des Asyl… ┆   ┆           ┆           ┆       ┆           │\n",
       "│            ┆            ┆ Maßnahm…   ┆           ┆   ┆           ┆           ┆       ┆           │\n",
       "│ cf0977d6f2 ┆ https://ww ┆ ###        ┆ Deutschke ┆ … ┆ true      ┆ 1         ┆ 0     ┆ true      │\n",
       "│ 6f94db220e ┆ w.foerderd ┆ Kurztext   ┆ nntnisse  ┆   ┆           ┆           ┆       ┆           │\n",
       "│ 54baffb615 ┆ atenbank.d ┆            ┆ und       ┆   ┆           ┆           ┆       ┆           │\n",
       "│ …          ┆ …          ┆ Wenn Sie   ┆ Sprachmi… ┆   ┆           ┆           ┆       ┆           │\n",
       "│            ┆            ┆ als Sta…   ┆           ┆   ┆           ┆           ┆       ┆           │\n",
       "│ 142a57177e ┆ https://ww ┆ ##### Rech ┆ Förderung ┆ … ┆ true      ┆ 0         ┆ 1     ┆ true      │\n",
       "│ fca34e2216 ┆ w.foerderd ┆ tsgrundlag ┆ von Forsc ┆   ┆           ┆           ┆       ┆           │\n",
       "│ e6bf8ff862 ┆ atenbank.d ┆ e          ┆ hungsproj ┆   ┆           ┆           ┆       ┆           │\n",
       "│ …          ┆ …          ┆            ┆ ek…       ┆   ┆           ┆           ┆       ┆           │\n",
       "│            ┆            ┆ Richtli…   ┆           ┆   ┆           ┆           ┆       ┆           │\n",
       "│ …          ┆ …          ┆ …          ┆ …         ┆ … ┆ …         ┆ …         ┆ …     ┆ …         │\n",
       "│ 67e0acac0b ┆ https://ww ┆ ###        ┆ Förderung ┆ … ┆ true      ┆ 0         ┆ 1     ┆ true      │\n",
       "│ 9837a91570 ┆ w.foerderd ┆ Kurztext   ┆  modellha ┆   ┆           ┆           ┆       ┆           │\n",
       "│ ea83ea5b06 ┆ atenbank.d ┆            ┆ fter und  ┆   ┆           ┆           ┆       ┆           │\n",
       "│ …          ┆ …          ┆ Wenn Sie   ┆ inn…      ┆   ┆           ┆           ┆       ┆           │\n",
       "│            ┆            ┆ innovat…   ┆           ┆   ┆           ┆           ┆       ┆           │\n",
       "│ ce5fec1351 ┆ https://ww ┆ ###        ┆ Förderung ┆ … ┆ true      ┆ 1         ┆ 0     ┆ true      │\n",
       "│ 4752c0fa26 ┆ w.foerderd ┆ Kurztext   ┆ von       ┆   ┆           ┆           ┆       ┆           │\n",
       "│ 66b786f656 ┆ atenbank.d ┆            ┆ Projekten ┆   ┆           ┆           ┆       ┆           │\n",
       "│ …          ┆ …          ┆ Wenn Sie   ┆ zur Bi…   ┆   ┆           ┆           ┆       ┆           │\n",
       "│            ┆            ┆ Projekt…   ┆           ┆   ┆           ┆           ┆       ┆           │\n",
       "│ 567bc695c6 ┆ https://ww ┆ ###        ┆ Förderung ┆ … ┆ true      ┆ 1         ┆ 0     ┆ true      │\n",
       "│ dc1c12a9fd ┆ w.foerderd ┆ Kurztext   ┆ von       ┆   ┆           ┆           ┆       ┆           │\n",
       "│ ff787e0261 ┆ atenbank.d ┆            ┆ Projekten ┆   ┆           ┆           ┆       ┆           │\n",
       "│ …          ┆ …          ┆ Wenn Sie   ┆ der Kr…   ┆   ┆           ┆           ┆       ┆           │\n",
       "│            ┆            ┆ in Meck…   ┆           ┆   ┆           ┆           ┆       ┆           │\n",
       "│ 814a681c0d ┆ https://ww ┆ ###        ┆ Netzwerke ┆ … ┆ true      ┆ 0         ┆ 1     ┆ true      │\n",
       "│ 6605cfc406 ┆ w.foerderd ┆ Kurztext   ┆ integrier ┆   ┆           ┆           ┆       ┆           │\n",
       "│ ac457e2beb ┆ atenbank.d ┆            ┆ en        ┆   ┆           ┆           ┆       ┆           │\n",
       "│ …          ┆ …          ┆ Wenn Sie   ┆ Geflücht… ┆   ┆           ┆           ┆       ┆           │\n",
       "│            ┆            ┆ die Arb…   ┆           ┆   ┆           ┆           ┆       ┆           │\n",
       "│ a2e43b78f3 ┆ https://ww ┆ ###        ┆ Justiz    ┆ … ┆ true      ┆ 0         ┆ 1     ┆ true      │\n",
       "│ 9bd894e22c ┆ w.foerderd ┆ Kurztext   ┆ (2021–202 ┆   ┆           ┆           ┆       ┆           │\n",
       "│ 12049685c8 ┆ atenbank.d ┆            ┆ 7) (Förde ┆   ┆           ┆           ┆       ┆           │\n",
       "│ …          ┆ …          ┆ Das Justiz ┆ rbere…    ┆   ┆           ┆           ┆       ┆           │\n",
       "│            ┆            ┆ -Progr…    ┆           ┆   ┆           ┆           ┆       ┆           │\n",
       "└────────────┴────────────┴────────────┴───────────┴───┴───────────┴───────────┴───────┴───────────┘"
      ]
     },
     "execution_count": 127,
     "metadata": {},
     "output_type": "execute_result"
    }
   ],
   "source": [
    "cdf.filter(\n",
    "    (pl.col(\"is_detrimental\") == True) & (pl.col(\"is_label_issue\") == True)\n",
    ")"
   ]
  }
 ],
 "metadata": {
  "kernelspec": {
   "display_name": ".venv",
   "language": "python",
   "name": "python3"
  },
  "language_info": {
   "codemirror_mode": {
    "name": "ipython",
    "version": 3
   },
   "file_extension": ".py",
   "mimetype": "text/x-python",
   "name": "python",
   "nbconvert_exporter": "python",
   "pygments_lexer": "ipython3",
   "version": "3.12.7"
  }
 },
 "nbformat": 4,
 "nbformat_minor": 2
}
