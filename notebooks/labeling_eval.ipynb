{
 "cells": [
  {
   "cell_type": "code",
   "execution_count": 1,
   "metadata": {},
   "outputs": [],
   "source": [
    "from cleanlab import Datalab\n",
    "from sklearn.feature_extraction.text import TfidfVectorizer\n",
    "import pandas as pd\n",
    "import polars as pl\n",
    "import seaborn as sns\n",
    "from matplotlib import pyplot as plt\n",
    "from lib.MLP import BinaryTfidfMLPClassifier\n",
    "from sklearn.model_selection import StratifiedKFold\n",
    "from cleanlab.filter import find_label_issues\n",
    "from sklearn.model_selection import StratifiedKFold\n",
    "import numpy as np\n",
    "from cleanlab.classification import CleanLearning"
   ]
  },
  {
   "cell_type": "markdown",
   "metadata": {},
   "source": [
    "## Cleanlab\n",
    "### Datalab Data Valuation\n",
    "Cleanlab’s Shapely scores are transformed to lie between 0 and 1 such that: a score below 0.5 indicates a negative contribution to the model’s training performance, while a score above 0.5 indicates a positive contribution."
   ]
  },
  {
   "cell_type": "code",
   "execution_count": 2,
   "metadata": {},
   "outputs": [],
   "source": [
    "df_orig = pl.read_csv(\"../data/labeled/19_06/to_classify.csv\").to_pandas()\n",
    "\n",
    "label_col = \"label\"\n",
    "\n",
    "true_labels = df_orig[label_col].to_list()\n",
    "\n",
    "vectorizer = TfidfVectorizer()\n",
    "\n",
    "# Transform the text data into a feature matrix\n",
    "X_vectorized = vectorizer.fit_transform(df_orig['description_title_cats_compact'])\n",
    "\n",
    "# Convert the sparse matrix to a dense matrix\n",
    "X = X_vectorized.toarray()"
   ]
  },
  {
   "cell_type": "code",
   "execution_count": 3,
   "metadata": {},
   "outputs": [
    {
     "name": "stdout",
     "output_type": "stream",
     "text": [
      "Finding data_valuation issues ...\n",
      "\n",
      "Audit complete. 55 issues found in the dataset.\n"
     ]
    }
   ],
   "source": [
    "lab = Datalab(data=df_orig, label_name=label_col, task=\"classification\")\n",
    "\n",
    "# Perform data valuation\n",
    "lab.find_issues(features=X, issue_types={\"data_valuation\": {}})\n",
    "\n",
    "# Collect the identified issues\n",
    "data_valuation_issues = lab.get_issues(\"data_valuation\")"
   ]
  },
  {
   "cell_type": "code",
   "execution_count": 4,
   "metadata": {},
   "outputs": [
    {
     "data": {
      "text/html": [
       "<div>\n",
       "<style scoped>\n",
       "    .dataframe tbody tr th:only-of-type {\n",
       "        vertical-align: middle;\n",
       "    }\n",
       "\n",
       "    .dataframe tbody tr th {\n",
       "        vertical-align: top;\n",
       "    }\n",
       "\n",
       "    .dataframe thead th {\n",
       "        text-align: right;\n",
       "    }\n",
       "</style>\n",
       "<table border=\"1\" class=\"dataframe\">\n",
       "  <thead>\n",
       "    <tr style=\"text-align: right;\">\n",
       "      <th></th>\n",
       "      <th>data_valuation_score</th>\n",
       "      <th>label</th>\n",
       "      <th>description_title_cats_compact</th>\n",
       "      <th>id_hash</th>\n",
       "    </tr>\n",
       "  </thead>\n",
       "  <tbody>\n",
       "    <tr>\n",
       "      <th>120</th>\n",
       "      <td>0.497386</td>\n",
       "      <td>1</td>\n",
       "      <td>Förderung der selbstbestimmten Teilhabe von Me...</td>\n",
       "      <td>977e06d07074d61f892107592c378944</td>\n",
       "    </tr>\n",
       "    <tr>\n",
       "      <th>72</th>\n",
       "      <td>0.497549</td>\n",
       "      <td>1</td>\n",
       "      <td>Förderung von Forschungsvorhaben „Plattform Pr...</td>\n",
       "      <td>892750f7bab363532b99225c7886cd11</td>\n",
       "    </tr>\n",
       "    <tr>\n",
       "      <th>254</th>\n",
       "      <td>0.497712</td>\n",
       "      <td>1</td>\n",
       "      <td>Integrationsprojekte für Menschen mit Migratio...</td>\n",
       "      <td>6b4d125864be5f08e7819b80af8b5029</td>\n",
       "    </tr>\n",
       "    <tr>\n",
       "      <th>53</th>\n",
       "      <td>0.498039</td>\n",
       "      <td>1</td>\n",
       "      <td>ESF-Bundesprogramm – „rückenwind3 für Vielfalt...</td>\n",
       "      <td>83d023d6f250ed596d6dbc0aa3ce7ec7</td>\n",
       "    </tr>\n",
       "    <tr>\n",
       "      <th>7</th>\n",
       "      <td>0.498039</td>\n",
       "      <td>1</td>\n",
       "      <td>Förderung von Projekten zur Inklusion, Partizi...</td>\n",
       "      <td>eda305464ae068152d4c084989b6a2ff</td>\n",
       "    </tr>\n",
       "    <tr>\n",
       "      <th>8</th>\n",
       "      <td>0.498366</td>\n",
       "      <td>1</td>\n",
       "      <td>Hamburger Partizipationsfonds (Förderbereich: ...</td>\n",
       "      <td>787895b92b2a20631d7053bb2aa7e2c4</td>\n",
       "    </tr>\n",
       "    <tr>\n",
       "      <th>121</th>\n",
       "      <td>0.498693</td>\n",
       "      <td>1</td>\n",
       "      <td>Bürgerinnen und Bürger, Gleichstellung, Rechte...</td>\n",
       "      <td>7b228e2288ba3580d0aaac6df450b7f2</td>\n",
       "    </tr>\n",
       "    <tr>\n",
       "      <th>59</th>\n",
       "      <td>0.498693</td>\n",
       "      <td>1</td>\n",
       "      <td>Förderung von Kleinprojekten (Förderbereich: A...</td>\n",
       "      <td>122a5f6220d57c8614c593ea50188d31</td>\n",
       "    </tr>\n",
       "    <tr>\n",
       "      <th>128</th>\n",
       "      <td>0.498693</td>\n",
       "      <td>1</td>\n",
       "      <td>Umsetzung inklusiver Maßnahmen (RL Inklusion) ...</td>\n",
       "      <td>d72dc9bfe82d80f2fcb13cd6eafc39bc</td>\n",
       "    </tr>\n",
       "    <tr>\n",
       "      <th>235</th>\n",
       "      <td>0.498856</td>\n",
       "      <td>1</td>\n",
       "      <td>Förderung der Migrationsberatung in Niedersach...</td>\n",
       "      <td>2e9c664847c7be79bdd14975da44163e</td>\n",
       "    </tr>\n",
       "  </tbody>\n",
       "</table>\n",
       "</div>"
      ],
      "text/plain": [
       "     data_valuation_score  label  \\\n",
       "120              0.497386      1   \n",
       "72               0.497549      1   \n",
       "254              0.497712      1   \n",
       "53               0.498039      1   \n",
       "7                0.498039      1   \n",
       "8                0.498366      1   \n",
       "121              0.498693      1   \n",
       "59               0.498693      1   \n",
       "128              0.498693      1   \n",
       "235              0.498856      1   \n",
       "\n",
       "                        description_title_cats_compact  \\\n",
       "120  Förderung der selbstbestimmten Teilhabe von Me...   \n",
       "72   Förderung von Forschungsvorhaben „Plattform Pr...   \n",
       "254  Integrationsprojekte für Menschen mit Migratio...   \n",
       "53   ESF-Bundesprogramm – „rückenwind3 für Vielfalt...   \n",
       "7    Förderung von Projekten zur Inklusion, Partizi...   \n",
       "8    Hamburger Partizipationsfonds (Förderbereich: ...   \n",
       "121  Bürgerinnen und Bürger, Gleichstellung, Rechte...   \n",
       "59   Förderung von Kleinprojekten (Förderbereich: A...   \n",
       "128  Umsetzung inklusiver Maßnahmen (RL Inklusion) ...   \n",
       "235  Förderung der Migrationsberatung in Niedersach...   \n",
       "\n",
       "                              id_hash  \n",
       "120  977e06d07074d61f892107592c378944  \n",
       "72   892750f7bab363532b99225c7886cd11  \n",
       "254  6b4d125864be5f08e7819b80af8b5029  \n",
       "53   83d023d6f250ed596d6dbc0aa3ce7ec7  \n",
       "7    eda305464ae068152d4c084989b6a2ff  \n",
       "8    787895b92b2a20631d7053bb2aa7e2c4  \n",
       "121  7b228e2288ba3580d0aaac6df450b7f2  \n",
       "59   122a5f6220d57c8614c593ea50188d31  \n",
       "128  d72dc9bfe82d80f2fcb13cd6eafc39bc  \n",
       "235  2e9c664847c7be79bdd14975da44163e  "
      ]
     },
     "execution_count": 4,
     "metadata": {},
     "output_type": "execute_result"
    }
   ],
   "source": [
    "mask = data_valuation_issues[\"data_valuation_score\"] < 0.5\n",
    "original_indices = data_valuation_issues[mask].index.tolist()\n",
    "\n",
    "# Add data valuation score to original df\n",
    "df_orig[\"data_valuation_score\"] = data_valuation_issues[\"data_valuation_score\"]\n",
    "\n",
    "# Then filter\n",
    "df_orig.loc[original_indices].sort_values(by=\"data_valuation_score\")[[\"data_valuation_score\",label_col,\"description_title_cats_compact\", \"id_hash\"]].iloc[:10]"
   ]
  },
  {
   "cell_type": "code",
   "execution_count": 5,
   "metadata": {},
   "outputs": [],
   "source": [
    "data_val_hashes = df_orig.loc[original_indices][\"id_hash\"].to_list()"
   ]
  },
  {
   "cell_type": "code",
   "execution_count": 6,
   "metadata": {},
   "outputs": [
    {
     "data": {
      "image/png": "[encoded data removed]",
      "text/plain": [
       "<Figure size 640x480 with 1 Axes>"
      ]
     },
     "metadata": {},
     "output_type": "display_data"
    }
   ],
   "source": [
    "plot_data = (\n",
    "    data_valuation_issues\n",
    "    # Optionally, add a 'given_label' column to distinguish between labels in the histogram\n",
    "    .join(pd.DataFrame({\"given_label\": df_orig[label_col]}))\n",
    ")\n",
    "\n",
    "# Plot strip plots of data valuation scores for each label\n",
    "sns.stripplot(\n",
    "    data=plot_data,\n",
    "    x=\"data_valuation_score\",\n",
    "    hue=\"given_label\",  # Comment out if no labels should be used in the visualization\n",
    "    dodge=True,\n",
    "    jitter=0.3,\n",
    "    alpha=0.5,\n",
    ")\n",
    "\n",
    "plt.axvline(lab.info[\"data_valuation\"][\"threshold\"], color=\"red\", linestyle=\"--\", label=\"Issue Threshold\")\n",
    "\n",
    "plt.title(\"Strip plot of Data Valuation Scores by Label\")\n",
    "plt.xlabel(\"Data Valuation Score\")\n",
    "plt.legend()\n",
    "plt.show()"
   ]
  },
  {
   "cell_type": "markdown",
   "metadata": {},
   "source": [
    "### Identify labeling issues with existing classifier"
   ]
  },
  {
   "cell_type": "code",
   "execution_count": 7,
   "metadata": {},
   "outputs": [
    {
     "data": {
      "text/html": [
       "<div>\n",
       "<style scoped>\n",
       "    .dataframe tbody tr th:only-of-type {\n",
       "        vertical-align: middle;\n",
       "    }\n",
       "\n",
       "    .dataframe tbody tr th {\n",
       "        vertical-align: top;\n",
       "    }\n",
       "\n",
       "    .dataframe thead th {\n",
       "        text-align: right;\n",
       "    }\n",
       "</style>\n",
       "<table border=\"1\" class=\"dataframe\">\n",
       "  <thead>\n",
       "    <tr style=\"text-align: right;\">\n",
       "      <th></th>\n",
       "      <th>is_label_issue</th>\n",
       "      <th>label_quality</th>\n",
       "      <th>given_label</th>\n",
       "      <th>predicted_label</th>\n",
       "    </tr>\n",
       "  </thead>\n",
       "  <tbody>\n",
       "    <tr>\n",
       "      <th>0</th>\n",
       "      <td>False</td>\n",
       "      <td>0.993413</td>\n",
       "      <td>1</td>\n",
       "      <td>1</td>\n",
       "    </tr>\n",
       "    <tr>\n",
       "      <th>1</th>\n",
       "      <td>False</td>\n",
       "      <td>0.999999</td>\n",
       "      <td>1</td>\n",
       "      <td>1</td>\n",
       "    </tr>\n",
       "    <tr>\n",
       "      <th>2</th>\n",
       "      <td>False</td>\n",
       "      <td>1.000000</td>\n",
       "      <td>0</td>\n",
       "      <td>0</td>\n",
       "    </tr>\n",
       "    <tr>\n",
       "      <th>3</th>\n",
       "      <td>False</td>\n",
       "      <td>1.000000</td>\n",
       "      <td>0</td>\n",
       "      <td>0</td>\n",
       "    </tr>\n",
       "    <tr>\n",
       "      <th>4</th>\n",
       "      <td>True</td>\n",
       "      <td>0.000083</td>\n",
       "      <td>0</td>\n",
       "      <td>1</td>\n",
       "    </tr>\n",
       "  </tbody>\n",
       "</table>\n",
       "</div>"
      ],
      "text/plain": [
       "   is_label_issue  label_quality  given_label  predicted_label\n",
       "0           False       0.993413            1                1\n",
       "1           False       0.999999            1                1\n",
       "2           False       1.000000            0                0\n",
       "3           False       1.000000            0                0\n",
       "4            True       0.000083            0                1"
      ]
     },
     "execution_count": 7,
     "metadata": {},
     "output_type": "execute_result"
    }
   ],
   "source": [
    "classifier = BinaryTfidfMLPClassifier.from_json('../models/optuna_tf_idf_mlp_params.json')\n",
    "cl = CleanLearning(classifier, cv_n_folds=5)\n",
    "\n",
    "skf = StratifiedKFold(n_splits=5)\n",
    "\n",
    "texts = df_orig[\"description_title_cats_compact\"].to_list()\n",
    "true_labels = df_orig[label_col].to_list()\n",
    "\n",
    "texts_array = np.array(texts)\n",
    "labels_array = np.array(true_labels)\n",
    "\n",
    "label_issues = cl.find_label_issues(\n",
    "    texts_array,\n",
    "    labels_array)\n",
    "\n",
    "label_issues.head()"
   ]
  },
  {
   "cell_type": "code",
   "execution_count": 8,
   "metadata": {},
   "outputs": [
    {
     "name": "stdout",
     "output_type": "stream",
     "text": [
      "cleanlab found 53 potential label errors in the dataset.\n",
      "\n"
     ]
    }
   ],
   "source": [
    "identified_issues = label_issues[label_issues[\"is_label_issue\"] == True]\n",
    "print(\n",
    "    f\"cleanlab found {len(identified_issues)} potential label errors in the dataset.\\n\"\n",
    ")"
   ]
  },
  {
   "cell_type": "code",
   "execution_count": 9,
   "metadata": {},
   "outputs": [
    {
     "name": "stdout",
     "output_type": "stream",
     "text": [
      "                                                                                                    text                           id_hash       quality  given_label  predicted_label\n",
      "42   Deutschkenntnisse und Sprachmittlung bei Geflüchteten und anderen Menschen mit Migrationshinterg...  cf0977d6f26f94db220e54baffb6152f  0.000000e+00            0                1\n",
      "72   Förderung von Forschungsvorhaben „Plattform Privatheit – IT-Sicherheit schützt Privatheit und st...  892750f7bab363532b99225c7886cd11  1.019710e-11            1                0\n",
      "110  Europäischer Sozialfonds Plus (ESF+) in Hamburg (Förderbereich: Aus- & Weiterbildung, Arbeit, Fr...  468c16e23de167c7e5b7d848c63efa50  2.384186e-07            0                1\n",
      "26   Beratungsstellen im Bereich Gewalt gegen Kinder und Jugendliche (Förderbereich: Gesundheit & Soz...  367aa96cf1c78c8decf306c03f2f0ba1  4.768372e-07            0                1\n",
      "209  Solidarisches Zusammenleben der Generationen (Förderbereich: Gesundheit & Soziales; Förderberech...  0992ea0dfec647def98a425fcfcf02dd  5.960464e-07            0                1\n",
      "102  Förderung allgemeiner sozialer Maßnahmen wohlfahrtsverbandsunabhängiger Träger (Förderbereich: G...  22a46e912da3def2ef010eed334b5782  8.344650e-07            0                1\n",
      "18   Förderung der Teilhabe und Unterstützung älterer Menschen (RL Ältere Menschen) (Förderbereich: G...  bd07ff29e41ade5cfd3b329acbb7f041  2.861023e-06            0                1\n",
      "248  Förderung von Maßnahmen im Bereich des Bürgerschaftlichen Engagements (Förderbereich: Gesundheit...  f61bf6b629a9892cafe5e91fb542ff84  3.099442e-06            0                1\n",
      "202  Förderung modellhafter und innovativer Projektideen im Rahmen des Land.OpenData-Ideenwettbewerbs...  67e0acac0b9837a91570ea83ea5b06c3  5.761817e-06            1                0\n",
      "124  Förderung von Fanprojekten (Förderbereich: Kultur, Medien & Sport, Gesundheit & Soziales; Förder...  da2609cc3c4798e6f6c7ff824d78b141  9.417534e-06            0                1\n",
      "82   Europäischer Sozialfonds Plus (ESF+) im Saarland (Förderbereich: Arbeit, Aus- & Weiterbildung, F...  4797dd852e56b79d81e114843f996867  1.120567e-05            0                1\n",
      "277  Förderung der Kinder- und Jugendhilfe durch den Kinder- und Jugendplan des Bundes (KJP) (Förderb...  3a6baf77302afe68e792011ba52c5e11  1.156330e-05            0                1\n",
      "227  Förderung von Projekten der Kriminalitätsvorbeugung (Förderbereich: Gesundheit & Soziales; Förde...  567bc695c6dc1c12a9fdff787e0261cd  1.597404e-05            0                1\n",
      "13   Europäischer Sozialfonds (ESF+) in Hessen (Förderbereich: Arbeit, Aus- & Weiterbildung, Frauenfö...  3ce85354846378baa23c936fe2396bf8  3.051758e-05            0                1\n",
      "4    Förderung familienentlastender Dienste auf dem Gebiet der Hilfen für Menschen mit Behinderungen ...  552a0ea7a1bb4c8c25f0962cfdf4b30c  8.344650e-05            0                1\n",
      "242  Einrichtungen zur Stärkung des Miteinanders der Generationen und des nachbarschaftlichen Zusamme...  900696df372f6e9544c4763f56805d3e  8.726120e-05            0                1\n",
      "27   Zuwendungen im Rahmen des Asyl-, Migrations- und Integrationsfonds (Förderbereich: Gesundheit & ...  1dcb85882697790942fd2a4a284827f6  9.822845e-05            0                1\n",
      "99   Projekte und Einrichtungen auf dem Gebiet der Kultur, der Kunst und der kulturellen Bildung (För...  1ab2b4f4cdad2e27eb3f0d0aa8f7f5da  1.311302e-04            0                1\n",
      "135  Sportförderrichtlinie (Förderbereich: Gesundheit & Soziales, Kultur, Medien & Sport; Förderberec...  92d1c2bf06d73b4761558cce44c04b42  2.201200e-04            0                1\n",
      "275  Förderung der ambulanten Unterstützung im Bereich gemeindenaher Psychiatrie, Partizipation und T...  eec13c2aacc1de8ba7e41888259d736b  3.373623e-04            0                1\n",
      "\n",
      "[20 rows x 5 columns]\n"
     ]
    }
   ],
   "source": [
    "pdf = pd.DataFrame(\n",
    "    {\n",
    "        \"text\": texts,\n",
    "        \"id_hash\" : df_orig[\"id_hash\"].to_list(),\n",
    "        \"quality\": label_issues[\"label_quality\"],\n",
    "        \"given_label\": true_labels,\n",
    "        \"predicted_label\": label_issues[\"predicted_label\"],\n",
    "    },\n",
    ").sort_values(by=\"quality\", ascending=True).iloc[:20]\n",
    "\n",
    "print(pdf.to_string(\n",
    "    max_colwidth=100,\n",
    "    max_rows=None,\n",
    "    max_cols=None,\n",
    "    show_dimensions=True\n",
    "))\n"
   ]
  },
  {
   "cell_type": "code",
   "execution_count": 10,
   "metadata": {},
   "outputs": [
    {
     "data": {
      "text/plain": [
       "'### Kurztext\\n\\nWenn Sie innovative Projektideen zum Einsatz von Open Data in ländlichen Kommunen umsetzen möchten, können Sie unter bestimmten Voraussetzungen einen Zuschuss erhalten.\\n\\n### Volltext\\n\\nDas Bundesministerium für Ernährung und Landwirtschaft (BMEL) setzt im BULEplus mit \"Land.OpenData - Ideenwettbewerb\" eine Fördermaßnahme um, welche die Bereitstellung und Verwendung von Open Data in ländlichen Räumen unterstützt.\\n\\nSie erhalten die Förderung für vorbereitende Maßnahmen zu den folgenden Themengebieten:\\n\\n* Wirtschaft\\n* Demokratische Beteiligung und Ehrenamt\\n* Dorfentwicklung\\n* Tourismus, Freizeit und Kultur\\n* Resilienz und digitale Transformation\\n* Energiewende\\n* Klimaschutz\\n* Bürokratieabbau\\n\\nSie erhalten die Förderung als Zuschuss für einen Förderzeitraum von maximal 12 Monaten.\\n\\nDie Höhe des Zuschusses beträgt maximal 80 Prozent der zuwendungsfähigen Gesamtausgaben, maximal 50.000 EUR je Zuwendungsempfängerin oder Zuwendungsempfänger.\\n\\nDas Antragsverfahren ist zweistufig. In der 1. Stufe reichen Sie bitte Ihre Projektskizze bei der Bundesanstalt für Landwirtschaft und Ernährung (BLE) ein.\\n\\nIn der 2. Verfahrensstufe werden Sie für Ihre positiv bewertete Projektskizze aufgefordert, einen förmlichen Förderantrag vorzulegen.\\n\\nIdeenskizzen konnten bis zum 15.08.2024 über das Beteiligungsportal eingereicht werden.'"
      ]
     },
     "execution_count": 10,
     "metadata": {},
     "output_type": "execute_result"
    }
   ],
   "source": [
    "pl.from_pandas(df_orig).filter(pl.col(\"id_hash\").str.contains(\"67e0acac0b9837a91570ea83ea5b06c3\"))[\"description_md\"].item()"
   ]
  },
  {
   "cell_type": "code",
   "execution_count": 11,
   "metadata": {},
   "outputs": [],
   "source": [
    "pdf = pd.DataFrame(\n",
    "    {\n",
    "        \"is_label_issue\": label_issues[\"is_label_issue\"],\n",
    "        \"id_hash\" : df_orig[\"id_hash\"].to_list()\n",
    "    },\n",
    ")\n",
    "label_issue_id_hashes = pdf[pdf[\"is_label_issue\"] == True][\"id_hash\"].to_list()"
   ]
  },
  {
   "cell_type": "markdown",
   "metadata": {},
   "source": [
    "### Combining metrics"
   ]
  },
  {
   "cell_type": "code",
   "execution_count": 12,
   "metadata": {},
   "outputs": [
    {
     "name": "stdout",
     "output_type": "stream",
     "text": [
      "Intersection: 16\n",
      "Union: 92\n",
      "Data val hashes: 55\n",
      "Label issue id hashes: 53\n"
     ]
    }
   ],
   "source": [
    "# get intersection of data_val_hashes and label_issue_id_hashes\n",
    "intersection = set(data_val_hashes).intersection(set(label_issue_id_hashes))\n",
    "print(f\"Intersection: {len(intersection)}\")\n",
    "# get union\n",
    "union = set(data_val_hashes).union(set(label_issue_id_hashes))\n",
    "print(f\"Union: {len(union)}\")\n",
    "print(f\"Data val hashes: {len(data_val_hashes)}\")\n",
    "print(f\"Label issue id hashes: {len(label_issue_id_hashes)}\")\n",
    "                         "
   ]
  },
  {
   "cell_type": "code",
   "execution_count": 13,
   "metadata": {},
   "outputs": [],
   "source": [
    "cdf = pl.from_pandas(df_orig).with_columns([\n",
    "    pl.Series(\"data_valuation_score\", data_valuation_issues[\"data_valuation_score\"]),\n",
    "    pl.Series(\"label_quality\", label_issues[\"label_quality\"]),\n",
    "    pl.Series(\"is_label_issue\", label_issues[\"is_label_issue\"]),\n",
    "    pl.Series(\"predicted_label\", label_issues[\"predicted_label\"])\n",
    "])\n",
    "cdf = cdf.with_columns([\n",
    "    (pl.col(\"data_valuation_score\") < 0.5).alias(\"is_detrimental\"),\n",
    "    (pl.col(\"predicted_label\") != pl.col(label_col)).alias(\"label_mismatch\")\n",
    "])\n",
    "# Create polars df with union hashes\n",
    "cdf = cdf.filter(pl.col(\"id_hash\").is_in(union))[\"id_hash\", \"url\", \"title\", \"description_html\", \"description_title_cats_compact\", \"data_valuation_score\", \"label_quality\", \"is_detrimental\",\"is_label_issue\", \"predicted_label\",label_col,\"label_mismatch\"]\n"
   ]
  },
  {
   "cell_type": "code",
   "execution_count": 14,
   "metadata": {},
   "outputs": [],
   "source": [
    "# cdf.write_csv(\"../data/labeled/19_06/to_correct.csv\")"
   ]
  }
 ],
 "metadata": {
  "kernelspec": {
   "display_name": "demokratiehaushalt",
   "language": "python",
   "name": "python3"
  },
  "language_info": {
   "codemirror_mode": {
    "name": "ipython",
    "version": 3
   },
   "file_extension": ".py",
   "mimetype": "text/x-python",
   "name": "python",
   "nbconvert_exporter": "python",
   "pygments_lexer": "ipython3",
   "version": "3.12.7"
  }
 },
 "nbformat": 4,
 "nbformat_minor": 2
}
